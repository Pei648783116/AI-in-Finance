{
 "cells": [
  {
   "cell_type": "markdown",
   "metadata": {},
   "source": [
    "## DATA CREATION "
   ]
  },
  {
   "cell_type": "markdown",
   "metadata": {},
   "source": [
    "### Importing Libraries\n",
    "\n",
    "First, we will import the SVC class which will be used later to instantiate a support vector classifier."
   ]
  },
  {
   "cell_type": "code",
   "execution_count": 1,
   "metadata": {},
   "outputs": [],
   "source": [
    "from sklearn.svm import SVC"
   ]
  },
  {
   "cell_type": "markdown",
   "metadata": {},
   "source": [
    " Next, we will import the standard scaler class along with some other classes."
   ]
  },
  {
   "cell_type": "code",
   "execution_count": 2,
   "metadata": {},
   "outputs": [],
   "source": [
    "from sklearn.preprocessing import StandardScaler\n",
    "from sklearn.model_selection import RandomizedSearchCV\n",
    "from sklearn.model_selection import GridSearchCV\n",
    "from sklearn.model_selection import TimeSeriesSplit\n",
    "from sklearn.pipeline import Pipeline\n",
    "from fwTimeSeriesSplit import fwTimeSeriesSplit\n",
    "import pandas as pd\n",
    "import numpy as np\n",
    "import talib as ta"
   ]
  },
  {
   "cell_type": "markdown",
   "metadata": {},
   "source": [
    "Next, we import the pyplot class from matplotlib library. This will be used to plot the performance of the strategy later in the code."
   ]
  },
  {
   "cell_type": "code",
   "execution_count": 3,
   "metadata": {},
   "outputs": [],
   "source": [
    "import seaborn\n",
    "import matplotlib.pyplot as plt\n",
    "%matplotlib inline"
   ]
  },
  {
   "cell_type": "markdown",
   "metadata": {},
   "source": [
    "### Importing Data\n",
    "\n",
    "Use we will upload the data and save it in a Dataframe named as ‘Df’\n",
    "To upload we use \"pandas.read_csv(\"spy_800.csv\")\".\n",
    "Our data is a 30 minute (half hour) OHLCV data for the SPY. \n",
    "Traded from 4AM to 7:30PM (practically round the clock)\n"
   ]
  },
  {
   "cell_type": "code",
   "execution_count": 4,
   "metadata": {},
   "outputs": [],
   "source": [
    "#Df = pd.read_csv('SPY_800.csv') \n",
    "Df = pd.read_csv('NSE_cash.csv') \n",
    "Df=Df[['Time','Open','High','Low','Close','Volume']]"
   ]
  },
  {
   "cell_type": "code",
   "execution_count": 5,
   "metadata": {},
   "outputs": [
    {
     "data": {
      "text/html": [
       "<div>\n",
       "<style scoped>\n",
       "    .dataframe tbody tr th:only-of-type {\n",
       "        vertical-align: middle;\n",
       "    }\n",
       "\n",
       "    .dataframe tbody tr th {\n",
       "        vertical-align: top;\n",
       "    }\n",
       "\n",
       "    .dataframe thead th {\n",
       "        text-align: right;\n",
       "    }\n",
       "</style>\n",
       "<table border=\"1\" class=\"dataframe\">\n",
       "  <thead>\n",
       "    <tr style=\"text-align: right;\">\n",
       "      <th></th>\n",
       "      <th>Time</th>\n",
       "      <th>Open</th>\n",
       "      <th>High</th>\n",
       "      <th>Low</th>\n",
       "      <th>Close</th>\n",
       "      <th>Volume</th>\n",
       "    </tr>\n",
       "  </thead>\n",
       "  <tbody>\n",
       "    <tr>\n",
       "      <th>0</th>\n",
       "      <td>09:15:59</td>\n",
       "      <td>319.25</td>\n",
       "      <td>319.40</td>\n",
       "      <td>316.05</td>\n",
       "      <td>317.70</td>\n",
       "      <td>143354</td>\n",
       "    </tr>\n",
       "    <tr>\n",
       "      <th>1</th>\n",
       "      <td>09:16:59</td>\n",
       "      <td>317.70</td>\n",
       "      <td>318.20</td>\n",
       "      <td>317.70</td>\n",
       "      <td>318.00</td>\n",
       "      <td>52695</td>\n",
       "    </tr>\n",
       "    <tr>\n",
       "      <th>2</th>\n",
       "      <td>09:17:59</td>\n",
       "      <td>318.00</td>\n",
       "      <td>318.85</td>\n",
       "      <td>318.00</td>\n",
       "      <td>318.55</td>\n",
       "      <td>47179</td>\n",
       "    </tr>\n",
       "    <tr>\n",
       "      <th>3</th>\n",
       "      <td>09:18:59</td>\n",
       "      <td>318.65</td>\n",
       "      <td>319.40</td>\n",
       "      <td>318.50</td>\n",
       "      <td>319.20</td>\n",
       "      <td>44745</td>\n",
       "    </tr>\n",
       "    <tr>\n",
       "      <th>4</th>\n",
       "      <td>09:19:59</td>\n",
       "      <td>319.30</td>\n",
       "      <td>319.85</td>\n",
       "      <td>319.20</td>\n",
       "      <td>319.65</td>\n",
       "      <td>57892</td>\n",
       "    </tr>\n",
       "  </tbody>\n",
       "</table>\n",
       "</div>"
      ],
      "text/plain": [
       "       Time    Open    High     Low   Close  Volume\n",
       "0  09:15:59  319.25  319.40  316.05  317.70  143354\n",
       "1  09:16:59  317.70  318.20  317.70  318.00   52695\n",
       "2  09:17:59  318.00  318.85  318.00  318.55   47179\n",
       "3  09:18:59  318.65  319.40  318.50  319.20   44745\n",
       "4  09:19:59  319.30  319.85  319.20  319.65   57892"
      ]
     },
     "execution_count": 5,
     "metadata": {},
     "output_type": "execute_result"
    }
   ],
   "source": [
    "Df.head()"
   ]
  },
  {
   "cell_type": "markdown",
   "metadata": {},
   "source": [
    "We will drop all rows which have no traded volume. This is done to avoid training on low liquidity moves. Alternatively, you can drop all those rows where volume is less than some value of your choice.\n"
   ]
  },
  {
   "cell_type": "code",
   "execution_count": 6,
   "metadata": {},
   "outputs": [],
   "source": [
    "Df=Df.drop(Df[Df['Volume']==0].index)"
   ]
  },
  {
   "cell_type": "markdown",
   "metadata": {},
   "source": [
    "Now, we will change the Time column to a ‘datetime’ type. This is done to so that we can check for the market closing time later in the code and square off any open positions before the market closes. ."
   ]
  },
  {
   "cell_type": "code",
   "execution_count": 7,
   "metadata": {},
   "outputs": [],
   "source": [
    "Df['Time']=pd.to_datetime(Df['Time'])"
   ]
  },
  {
   "cell_type": "code",
   "execution_count": 8,
   "metadata": {},
   "outputs": [
    {
     "data": {
      "text/html": [
       "<div>\n",
       "<style scoped>\n",
       "    .dataframe tbody tr th:only-of-type {\n",
       "        vertical-align: middle;\n",
       "    }\n",
       "\n",
       "    .dataframe tbody tr th {\n",
       "        vertical-align: top;\n",
       "    }\n",
       "\n",
       "    .dataframe thead th {\n",
       "        text-align: right;\n",
       "    }\n",
       "</style>\n",
       "<table border=\"1\" class=\"dataframe\">\n",
       "  <thead>\n",
       "    <tr style=\"text-align: right;\">\n",
       "      <th></th>\n",
       "      <th>Time</th>\n",
       "      <th>Open</th>\n",
       "      <th>High</th>\n",
       "      <th>Low</th>\n",
       "      <th>Close</th>\n",
       "      <th>Volume</th>\n",
       "    </tr>\n",
       "  </thead>\n",
       "  <tbody>\n",
       "    <tr>\n",
       "      <th>0</th>\n",
       "      <td>2020-02-21 09:15:59</td>\n",
       "      <td>319.25</td>\n",
       "      <td>319.40</td>\n",
       "      <td>316.05</td>\n",
       "      <td>317.70</td>\n",
       "      <td>143354</td>\n",
       "    </tr>\n",
       "    <tr>\n",
       "      <th>1</th>\n",
       "      <td>2020-02-21 09:16:59</td>\n",
       "      <td>317.70</td>\n",
       "      <td>318.20</td>\n",
       "      <td>317.70</td>\n",
       "      <td>318.00</td>\n",
       "      <td>52695</td>\n",
       "    </tr>\n",
       "    <tr>\n",
       "      <th>2</th>\n",
       "      <td>2020-02-21 09:17:59</td>\n",
       "      <td>318.00</td>\n",
       "      <td>318.85</td>\n",
       "      <td>318.00</td>\n",
       "      <td>318.55</td>\n",
       "      <td>47179</td>\n",
       "    </tr>\n",
       "    <tr>\n",
       "      <th>3</th>\n",
       "      <td>2020-02-21 09:18:59</td>\n",
       "      <td>318.65</td>\n",
       "      <td>319.40</td>\n",
       "      <td>318.50</td>\n",
       "      <td>319.20</td>\n",
       "      <td>44745</td>\n",
       "    </tr>\n",
       "    <tr>\n",
       "      <th>4</th>\n",
       "      <td>2020-02-21 09:19:59</td>\n",
       "      <td>319.30</td>\n",
       "      <td>319.85</td>\n",
       "      <td>319.20</td>\n",
       "      <td>319.65</td>\n",
       "      <td>57892</td>\n",
       "    </tr>\n",
       "  </tbody>\n",
       "</table>\n",
       "</div>"
      ],
      "text/plain": [
       "                 Time    Open    High     Low   Close  Volume\n",
       "0 2020-02-21 09:15:59  319.25  319.40  316.05  317.70  143354\n",
       "1 2020-02-21 09:16:59  317.70  318.20  317.70  318.00   52695\n",
       "2 2020-02-21 09:17:59  318.00  318.85  318.00  318.55   47179\n",
       "3 2020-02-21 09:18:59  318.65  319.40  318.50  319.20   44745\n",
       "4 2020-02-21 09:19:59  319.30  319.85  319.20  319.65   57892"
      ]
     },
     "execution_count": 8,
     "metadata": {},
     "output_type": "execute_result"
    }
   ],
   "source": [
    "Df.head()"
   ]
  },
  {
   "cell_type": "markdown",
   "metadata": {},
   "source": [
    "### Splitting Data\n",
    "\n",
    "We will use 80% of our data to train and the rest 20% to test. To do this, we will create a split parameter which will divide the dataframe in an 80-20 ratio. This can be changed as per your choice, but it is advisable to give at least 70% data as train data for good results. \"split\" is the integer index value for the row corresponding to test-train split. "
   ]
  },
  {
   "cell_type": "code",
   "execution_count": 9,
   "metadata": {},
   "outputs": [],
   "source": [
    "t=.8\n",
    "split = int(t*len(Df))"
   ]
  },
  {
   "cell_type": "markdown",
   "metadata": {},
   "source": [
    "### Creating Indicators\n",
    "\n",
    "Next, we decide the time period for which we will calculate our indicators. For this, we chose a variable ‘n’ with a value of 6 half hours. This is something you can change as per your choice. We will be creating all the indicators for the same time period. \n"
   ]
  },
  {
   "cell_type": "code",
   "execution_count": 10,
   "metadata": {},
   "outputs": [],
   "source": [
    "n=10 #this is the window for return periods (among other things)\n",
    "#n=5"
   ]
  },
  {
   "cell_type": "markdown",
   "metadata": {},
   "source": [
    "Next, we will create RSI and some other indicators. As you can see in the ‘RSI’ calculation below, two things are being done. First, the “Close” prices column is ‘shifted’ down by a single time interval, one minute, in our case. This is done so that we work on historical data. Secondly, “timeperiod” is chosen as “n” which we earlier defined as ‘6’ half hours. So if we are calculating RSI for ‘t’th half hour, we will use Closing prices of ‘t-10’, ‘t-9’, …’t-1’ half hours.) \n"
   ]
  },
  {
   "cell_type": "code",
   "execution_count": 11,
   "metadata": {},
   "outputs": [],
   "source": [
    "Df['RSI']=ta.RSI(np.array(Df['Close'].shift(1)), timeperiod=n)"
   ]
  },
  {
   "cell_type": "code",
   "execution_count": 12,
   "metadata": {},
   "outputs": [],
   "source": [
    "Df['SMA'] = Df['Close'].shift(1).rolling(window=n).mean()\n",
    "Df['Corr']=Df['Close'].shift(1).rolling(window=n).corr(Df['SMA'].shift(1))"
   ]
  },
  {
   "cell_type": "markdown",
   "metadata": {},
   "source": [
    "SAR and ADX are calculated on High and Low prices because they are intended to be sensitive to new \"Highs\" and \"Lows\" created. In the SAR indicator the values of 0.2 represent the acceleration and maximum step parameters. These are just default values agreed upon by tradition. see:https://www.investopedia.com/terms/p/parabolicindicator.asp "
   ]
  },
  {
   "cell_type": "code",
   "execution_count": 13,
   "metadata": {},
   "outputs": [],
   "source": [
    "Df['SAR']=ta.SAR(np.array(Df['High'].shift(1)),np.array(Df['Low'].shift(1)),\\\n",
    "                  0.2,0.2)\n",
    "Df['ADX']=ta.ADX(np.array(Df['High'].shift(1)),np.array(Df['Low'].shift(1)),\\\n",
    "                  np.array(Df['Open']), timeperiod =n)"
   ]
  },
  {
   "cell_type": "markdown",
   "metadata": {},
   "source": [
    "We will pass yesterday's \"High\", \"Low\", and \"Close\" prices as input to the algorithm in variables named in lower cases. This will help the algorithm sense the volatility of the past time period."
   ]
  },
  {
   "cell_type": "code",
   "execution_count": 14,
   "metadata": {},
   "outputs": [],
   "source": [
    "Df['close'] = Df['Close'].shift(1)\n",
    "Df['high'] = Df['High'].shift(1)\n",
    "Df['low'] = Df['Low'].shift(1)"
   ]
  },
  {
   "cell_type": "markdown",
   "metadata": {},
   "source": [
    "We will also pass two other values as features: the change in \"Open\" prices between yesterday and today & the difference between today's \"Open\" and yesterday's \"Close\" prices."
   ]
  },
  {
   "cell_type": "code",
   "execution_count": 15,
   "metadata": {},
   "outputs": [],
   "source": [
    "Df['OO']= Df['Open']-Df['Open'].shift(1)\n",
    "Df['OC']= Df['Open']-Df['close']"
   ]
  },
  {
   "cell_type": "markdown",
   "metadata": {},
   "source": [
    "Next, calculate the returns for every data point and save in \"Ret\". We also save returns of past 'n' half hours in 'n' columns named as 'return1', 'return2' and so on. This will help the algorithm to understand the trend of the returns in last 'n' periods.  "
   ]
  },
  {
   "cell_type": "code",
   "execution_count": 16,
   "metadata": {},
   "outputs": [],
   "source": [
    "Df['Ret']=np.log(Df['Open'].shift(-1)/Df['Open'])\n",
    "for i in range(1,n):\n",
    "    Df['return%i'%i]=Df['Ret'].shift(i)"
   ]
  },
  {
   "cell_type": "code",
   "execution_count": 17,
   "metadata": {},
   "outputs": [
    {
     "data": {
      "text/html": [
       "<div>\n",
       "<style scoped>\n",
       "    .dataframe tbody tr th:only-of-type {\n",
       "        vertical-align: middle;\n",
       "    }\n",
       "\n",
       "    .dataframe tbody tr th {\n",
       "        vertical-align: top;\n",
       "    }\n",
       "\n",
       "    .dataframe thead th {\n",
       "        text-align: right;\n",
       "    }\n",
       "</style>\n",
       "<table border=\"1\" class=\"dataframe\">\n",
       "  <thead>\n",
       "    <tr style=\"text-align: right;\">\n",
       "      <th></th>\n",
       "      <th>Time</th>\n",
       "      <th>Open</th>\n",
       "      <th>High</th>\n",
       "      <th>Low</th>\n",
       "      <th>Close</th>\n",
       "      <th>Volume</th>\n",
       "      <th>RSI</th>\n",
       "      <th>SMA</th>\n",
       "      <th>Corr</th>\n",
       "      <th>SAR</th>\n",
       "      <th>...</th>\n",
       "      <th>Ret</th>\n",
       "      <th>return1</th>\n",
       "      <th>return2</th>\n",
       "      <th>return3</th>\n",
       "      <th>return4</th>\n",
       "      <th>return5</th>\n",
       "      <th>return6</th>\n",
       "      <th>return7</th>\n",
       "      <th>return8</th>\n",
       "      <th>return9</th>\n",
       "    </tr>\n",
       "  </thead>\n",
       "  <tbody>\n",
       "    <tr>\n",
       "      <th>0</th>\n",
       "      <td>2020-02-21 09:15:59</td>\n",
       "      <td>319.25</td>\n",
       "      <td>319.40</td>\n",
       "      <td>316.05</td>\n",
       "      <td>317.70</td>\n",
       "      <td>143354</td>\n",
       "      <td>NaN</td>\n",
       "      <td>NaN</td>\n",
       "      <td>NaN</td>\n",
       "      <td>NaN</td>\n",
       "      <td>...</td>\n",
       "      <td>-0.004867</td>\n",
       "      <td>NaN</td>\n",
       "      <td>NaN</td>\n",
       "      <td>NaN</td>\n",
       "      <td>NaN</td>\n",
       "      <td>NaN</td>\n",
       "      <td>NaN</td>\n",
       "      <td>NaN</td>\n",
       "      <td>NaN</td>\n",
       "      <td>NaN</td>\n",
       "    </tr>\n",
       "    <tr>\n",
       "      <th>1</th>\n",
       "      <td>2020-02-21 09:16:59</td>\n",
       "      <td>317.70</td>\n",
       "      <td>318.20</td>\n",
       "      <td>317.70</td>\n",
       "      <td>318.00</td>\n",
       "      <td>52695</td>\n",
       "      <td>NaN</td>\n",
       "      <td>NaN</td>\n",
       "      <td>NaN</td>\n",
       "      <td>NaN</td>\n",
       "      <td>...</td>\n",
       "      <td>0.000944</td>\n",
       "      <td>-0.004867</td>\n",
       "      <td>NaN</td>\n",
       "      <td>NaN</td>\n",
       "      <td>NaN</td>\n",
       "      <td>NaN</td>\n",
       "      <td>NaN</td>\n",
       "      <td>NaN</td>\n",
       "      <td>NaN</td>\n",
       "      <td>NaN</td>\n",
       "    </tr>\n",
       "    <tr>\n",
       "      <th>2</th>\n",
       "      <td>2020-02-21 09:17:59</td>\n",
       "      <td>318.00</td>\n",
       "      <td>318.85</td>\n",
       "      <td>318.00</td>\n",
       "      <td>318.55</td>\n",
       "      <td>47179</td>\n",
       "      <td>NaN</td>\n",
       "      <td>NaN</td>\n",
       "      <td>NaN</td>\n",
       "      <td>316.050</td>\n",
       "      <td>...</td>\n",
       "      <td>0.002042</td>\n",
       "      <td>0.000944</td>\n",
       "      <td>-0.004867</td>\n",
       "      <td>NaN</td>\n",
       "      <td>NaN</td>\n",
       "      <td>NaN</td>\n",
       "      <td>NaN</td>\n",
       "      <td>NaN</td>\n",
       "      <td>NaN</td>\n",
       "      <td>NaN</td>\n",
       "    </tr>\n",
       "    <tr>\n",
       "      <th>3</th>\n",
       "      <td>2020-02-21 09:18:59</td>\n",
       "      <td>318.65</td>\n",
       "      <td>319.40</td>\n",
       "      <td>318.50</td>\n",
       "      <td>319.20</td>\n",
       "      <td>44745</td>\n",
       "      <td>NaN</td>\n",
       "      <td>NaN</td>\n",
       "      <td>NaN</td>\n",
       "      <td>316.480</td>\n",
       "      <td>...</td>\n",
       "      <td>0.002038</td>\n",
       "      <td>0.002042</td>\n",
       "      <td>0.000944</td>\n",
       "      <td>-0.004867</td>\n",
       "      <td>NaN</td>\n",
       "      <td>NaN</td>\n",
       "      <td>NaN</td>\n",
       "      <td>NaN</td>\n",
       "      <td>NaN</td>\n",
       "      <td>NaN</td>\n",
       "    </tr>\n",
       "    <tr>\n",
       "      <th>4</th>\n",
       "      <td>2020-02-21 09:19:59</td>\n",
       "      <td>319.30</td>\n",
       "      <td>319.85</td>\n",
       "      <td>319.20</td>\n",
       "      <td>319.65</td>\n",
       "      <td>57892</td>\n",
       "      <td>NaN</td>\n",
       "      <td>NaN</td>\n",
       "      <td>NaN</td>\n",
       "      <td>316.954</td>\n",
       "      <td>...</td>\n",
       "      <td>0.000939</td>\n",
       "      <td>0.002038</td>\n",
       "      <td>0.002042</td>\n",
       "      <td>0.000944</td>\n",
       "      <td>-0.004867</td>\n",
       "      <td>NaN</td>\n",
       "      <td>NaN</td>\n",
       "      <td>NaN</td>\n",
       "      <td>NaN</td>\n",
       "      <td>NaN</td>\n",
       "    </tr>\n",
       "  </tbody>\n",
       "</table>\n",
       "<p>5 rows × 26 columns</p>\n",
       "</div>"
      ],
      "text/plain": [
       "                 Time    Open    High     Low   Close  Volume  RSI  SMA  Corr  \\\n",
       "0 2020-02-21 09:15:59  319.25  319.40  316.05  317.70  143354  NaN  NaN   NaN   \n",
       "1 2020-02-21 09:16:59  317.70  318.20  317.70  318.00   52695  NaN  NaN   NaN   \n",
       "2 2020-02-21 09:17:59  318.00  318.85  318.00  318.55   47179  NaN  NaN   NaN   \n",
       "3 2020-02-21 09:18:59  318.65  319.40  318.50  319.20   44745  NaN  NaN   NaN   \n",
       "4 2020-02-21 09:19:59  319.30  319.85  319.20  319.65   57892  NaN  NaN   NaN   \n",
       "\n",
       "       SAR  ...       Ret   return1   return2   return3   return4  return5  \\\n",
       "0      NaN  ... -0.004867       NaN       NaN       NaN       NaN      NaN   \n",
       "1      NaN  ...  0.000944 -0.004867       NaN       NaN       NaN      NaN   \n",
       "2  316.050  ...  0.002042  0.000944 -0.004867       NaN       NaN      NaN   \n",
       "3  316.480  ...  0.002038  0.002042  0.000944 -0.004867       NaN      NaN   \n",
       "4  316.954  ...  0.000939  0.002038  0.002042  0.000944 -0.004867      NaN   \n",
       "\n",
       "   return6  return7  return8  return9  \n",
       "0      NaN      NaN      NaN      NaN  \n",
       "1      NaN      NaN      NaN      NaN  \n",
       "2      NaN      NaN      NaN      NaN  \n",
       "3      NaN      NaN      NaN      NaN  \n",
       "4      NaN      NaN      NaN      NaN  \n",
       "\n",
       "[5 rows x 26 columns]"
      ]
     },
     "execution_count": 17,
     "metadata": {},
     "output_type": "execute_result"
    }
   ],
   "source": [
    "Df.head()"
   ]
  },
  {
   "cell_type": "markdown",
   "metadata": {},
   "source": [
    "### Trimming the Data\n",
    "\n",
    "We would like to keep the values of indicator ‘Corr’ between -1 and 1, as the correlation coefficient is always between these values. This is done by changing all values less than -1 to -1, and all values greater than 1 to 1. This doesn’t affect our calculations negatively because the extreme values are realised due to NAN values in the data, which need to be handled before training the algorithm. Then we drop all NANs from the entire dataframe."
   ]
  },
  {
   "cell_type": "code",
   "execution_count": 18,
   "metadata": {},
   "outputs": [],
   "source": [
    "#the correlation function used above to generate the Df['Corr'] column\n",
    "#should not be generating any values outside -1 and 1; \n",
    "#however, something is going on that makes the function generate infinite or NAN values sometimes and\n",
    "#we have to get rid of these errors\n",
    "\n",
    "Df.loc[Df['Corr']<-1,'Corr']=-1\n",
    "Df.loc[Df['Corr']>1,'Corr']=1\n",
    "Df=Df.dropna()\n"
   ]
  },
  {
   "cell_type": "markdown",
   "metadata": {},
   "source": [
    "### Creating Output Signal\n",
    "\n",
    "Next, we assign signal values corresponding to ‘returns’ that were calculated earlier. To do this, we split the data into three \n",
    "equal parts, as per the returns. The highest returns’ quantile is assigned Signal ‘1’ or “Buy”.  Middle quantile is assigned Signal ‘0’ or ‘Do nothing’. Lowest quantile is assigned Signal ‘-1’ or ‘Sell’. "
   ]
  },
  {
   "cell_type": "code",
   "execution_count": 19,
   "metadata": {},
   "outputs": [],
   "source": [
    "Df['Signal']=0\n",
    "Df.loc[Df['Ret']>Df['Ret'][:split].quantile(q=0.66),'Signal']=1\n",
    "Df.loc[Df['Ret']<Df['Ret'][:split].quantile(q=0.34),'Signal']=-1"
   ]
  },
  {
   "cell_type": "code",
   "execution_count": 20,
   "metadata": {},
   "outputs": [
    {
     "data": {
      "text/html": [
       "<div>\n",
       "<style scoped>\n",
       "    .dataframe tbody tr th:only-of-type {\n",
       "        vertical-align: middle;\n",
       "    }\n",
       "\n",
       "    .dataframe tbody tr th {\n",
       "        vertical-align: top;\n",
       "    }\n",
       "\n",
       "    .dataframe thead th {\n",
       "        text-align: right;\n",
       "    }\n",
       "</style>\n",
       "<table border=\"1\" class=\"dataframe\">\n",
       "  <thead>\n",
       "    <tr style=\"text-align: right;\">\n",
       "      <th></th>\n",
       "      <th>Time</th>\n",
       "      <th>Open</th>\n",
       "      <th>High</th>\n",
       "      <th>Low</th>\n",
       "      <th>Close</th>\n",
       "      <th>Volume</th>\n",
       "      <th>RSI</th>\n",
       "      <th>SMA</th>\n",
       "      <th>Corr</th>\n",
       "      <th>SAR</th>\n",
       "      <th>...</th>\n",
       "      <th>return1</th>\n",
       "      <th>return2</th>\n",
       "      <th>return3</th>\n",
       "      <th>return4</th>\n",
       "      <th>return5</th>\n",
       "      <th>return6</th>\n",
       "      <th>return7</th>\n",
       "      <th>return8</th>\n",
       "      <th>return9</th>\n",
       "      <th>Signal</th>\n",
       "    </tr>\n",
       "  </thead>\n",
       "  <tbody>\n",
       "    <tr>\n",
       "      <th>20</th>\n",
       "      <td>2020-02-21 09:35:59</td>\n",
       "      <td>317.90</td>\n",
       "      <td>318.20</td>\n",
       "      <td>317.60</td>\n",
       "      <td>317.80</td>\n",
       "      <td>29910</td>\n",
       "      <td>43.095793</td>\n",
       "      <td>318.850</td>\n",
       "      <td>0.816229</td>\n",
       "      <td>319.184400</td>\n",
       "      <td>...</td>\n",
       "      <td>-0.001100</td>\n",
       "      <td>-0.001884</td>\n",
       "      <td>-0.000314</td>\n",
       "      <td>-0.000157</td>\n",
       "      <td>-0.000157</td>\n",
       "      <td>-0.001253</td>\n",
       "      <td>-0.000782</td>\n",
       "      <td>0.002035</td>\n",
       "      <td>0.002196</td>\n",
       "      <td>-1</td>\n",
       "    </tr>\n",
       "    <tr>\n",
       "      <th>21</th>\n",
       "      <td>2020-02-21 09:36:59</td>\n",
       "      <td>317.80</td>\n",
       "      <td>317.85</td>\n",
       "      <td>317.40</td>\n",
       "      <td>317.40</td>\n",
       "      <td>21161</td>\n",
       "      <td>41.910041</td>\n",
       "      <td>318.795</td>\n",
       "      <td>0.871812</td>\n",
       "      <td>318.917520</td>\n",
       "      <td>...</td>\n",
       "      <td>-0.000315</td>\n",
       "      <td>-0.001100</td>\n",
       "      <td>-0.001884</td>\n",
       "      <td>-0.000314</td>\n",
       "      <td>-0.000157</td>\n",
       "      <td>-0.000157</td>\n",
       "      <td>-0.001253</td>\n",
       "      <td>-0.000782</td>\n",
       "      <td>0.002035</td>\n",
       "      <td>-1</td>\n",
       "    </tr>\n",
       "    <tr>\n",
       "      <th>22</th>\n",
       "      <td>2020-02-21 09:37:59</td>\n",
       "      <td>317.40</td>\n",
       "      <td>318.15</td>\n",
       "      <td>317.25</td>\n",
       "      <td>318.00</td>\n",
       "      <td>20039</td>\n",
       "      <td>37.343463</td>\n",
       "      <td>318.630</td>\n",
       "      <td>0.919286</td>\n",
       "      <td>318.654016</td>\n",
       "      <td>...</td>\n",
       "      <td>-0.001259</td>\n",
       "      <td>-0.000315</td>\n",
       "      <td>-0.001100</td>\n",
       "      <td>-0.001884</td>\n",
       "      <td>-0.000314</td>\n",
       "      <td>-0.000157</td>\n",
       "      <td>-0.000157</td>\n",
       "      <td>-0.001253</td>\n",
       "      <td>-0.000782</td>\n",
       "      <td>1</td>\n",
       "    </tr>\n",
       "    <tr>\n",
       "      <th>23</th>\n",
       "      <td>2020-02-21 09:38:59</td>\n",
       "      <td>318.05</td>\n",
       "      <td>318.65</td>\n",
       "      <td>317.85</td>\n",
       "      <td>318.65</td>\n",
       "      <td>20345</td>\n",
       "      <td>46.973248</td>\n",
       "      <td>318.465</td>\n",
       "      <td>0.892114</td>\n",
       "      <td>318.403213</td>\n",
       "      <td>...</td>\n",
       "      <td>0.002046</td>\n",
       "      <td>-0.001259</td>\n",
       "      <td>-0.000315</td>\n",
       "      <td>-0.001100</td>\n",
       "      <td>-0.001884</td>\n",
       "      <td>-0.000314</td>\n",
       "      <td>-0.000157</td>\n",
       "      <td>-0.000157</td>\n",
       "      <td>-0.001253</td>\n",
       "      <td>1</td>\n",
       "    </tr>\n",
       "    <tr>\n",
       "      <th>24</th>\n",
       "      <td>2020-02-21 09:39:59</td>\n",
       "      <td>318.65</td>\n",
       "      <td>319.00</td>\n",
       "      <td>318.10</td>\n",
       "      <td>318.25</td>\n",
       "      <td>86988</td>\n",
       "      <td>55.251655</td>\n",
       "      <td>318.380</td>\n",
       "      <td>0.616495</td>\n",
       "      <td>317.250000</td>\n",
       "      <td>...</td>\n",
       "      <td>0.001885</td>\n",
       "      <td>0.002046</td>\n",
       "      <td>-0.001259</td>\n",
       "      <td>-0.000315</td>\n",
       "      <td>-0.001100</td>\n",
       "      <td>-0.001884</td>\n",
       "      <td>-0.000314</td>\n",
       "      <td>-0.000157</td>\n",
       "      <td>-0.000157</td>\n",
       "      <td>-1</td>\n",
       "    </tr>\n",
       "  </tbody>\n",
       "</table>\n",
       "<p>5 rows × 27 columns</p>\n",
       "</div>"
      ],
      "text/plain": [
       "                  Time    Open    High     Low   Close  Volume        RSI  \\\n",
       "20 2020-02-21 09:35:59  317.90  318.20  317.60  317.80   29910  43.095793   \n",
       "21 2020-02-21 09:36:59  317.80  317.85  317.40  317.40   21161  41.910041   \n",
       "22 2020-02-21 09:37:59  317.40  318.15  317.25  318.00   20039  37.343463   \n",
       "23 2020-02-21 09:38:59  318.05  318.65  317.85  318.65   20345  46.973248   \n",
       "24 2020-02-21 09:39:59  318.65  319.00  318.10  318.25   86988  55.251655   \n",
       "\n",
       "        SMA      Corr         SAR  ...   return1   return2   return3  \\\n",
       "20  318.850  0.816229  319.184400  ... -0.001100 -0.001884 -0.000314   \n",
       "21  318.795  0.871812  318.917520  ... -0.000315 -0.001100 -0.001884   \n",
       "22  318.630  0.919286  318.654016  ... -0.001259 -0.000315 -0.001100   \n",
       "23  318.465  0.892114  318.403213  ...  0.002046 -0.001259 -0.000315   \n",
       "24  318.380  0.616495  317.250000  ...  0.001885  0.002046 -0.001259   \n",
       "\n",
       "     return4   return5   return6   return7   return8   return9  Signal  \n",
       "20 -0.000157 -0.000157 -0.001253 -0.000782  0.002035  0.002196      -1  \n",
       "21 -0.000314 -0.000157 -0.000157 -0.001253 -0.000782  0.002035      -1  \n",
       "22 -0.001884 -0.000314 -0.000157 -0.000157 -0.001253 -0.000782       1  \n",
       "23 -0.001100 -0.001884 -0.000314 -0.000157 -0.000157 -0.001253       1  \n",
       "24 -0.000315 -0.001100 -0.001884 -0.000314 -0.000157 -0.000157      -1  \n",
       "\n",
       "[5 rows x 27 columns]"
      ]
     },
     "execution_count": 20,
     "metadata": {},
     "output_type": "execute_result"
    }
   ],
   "source": [
    "Df.head()"
   ]
  },
  {
   "cell_type": "markdown",
   "metadata": {},
   "source": [
    "One last step and then we will be ready with our data!  \n",
    "### Creating the features and values\n",
    "\n",
    "We are dropping columns 'Close','Signal','Time','High','Low','Volume', and'Ret' since the algorithm will not be trained on these features. Next, we assign ‘Signal’ to ‘y’ which is the output variable that we will predict using test data.   "
   ]
  },
  {
   "cell_type": "code",
   "execution_count": 21,
   "metadata": {},
   "outputs": [],
   "source": [
    "X=Df.drop(['Close','Signal','Time','High','Low','Volume','Ret'],axis=1)\n",
    "y=Df['Signal']"
   ]
  },
  {
   "cell_type": "markdown",
   "metadata": {},
   "source": [
    "What have we got now:"
   ]
  },
  {
   "cell_type": "code",
   "execution_count": 22,
   "metadata": {},
   "outputs": [
    {
     "data": {
      "text/html": [
       "<div>\n",
       "<style scoped>\n",
       "    .dataframe tbody tr th:only-of-type {\n",
       "        vertical-align: middle;\n",
       "    }\n",
       "\n",
       "    .dataframe tbody tr th {\n",
       "        vertical-align: top;\n",
       "    }\n",
       "\n",
       "    .dataframe thead th {\n",
       "        text-align: right;\n",
       "    }\n",
       "</style>\n",
       "<table border=\"1\" class=\"dataframe\">\n",
       "  <thead>\n",
       "    <tr style=\"text-align: right;\">\n",
       "      <th></th>\n",
       "      <th>Open</th>\n",
       "      <th>RSI</th>\n",
       "      <th>SMA</th>\n",
       "      <th>Corr</th>\n",
       "      <th>SAR</th>\n",
       "      <th>ADX</th>\n",
       "      <th>close</th>\n",
       "      <th>high</th>\n",
       "      <th>low</th>\n",
       "      <th>OO</th>\n",
       "      <th>OC</th>\n",
       "      <th>return1</th>\n",
       "      <th>return2</th>\n",
       "      <th>return3</th>\n",
       "      <th>return4</th>\n",
       "      <th>return5</th>\n",
       "      <th>return6</th>\n",
       "      <th>return7</th>\n",
       "      <th>return8</th>\n",
       "      <th>return9</th>\n",
       "    </tr>\n",
       "  </thead>\n",
       "  <tbody>\n",
       "    <tr>\n",
       "      <th>20</th>\n",
       "      <td>317.90</td>\n",
       "      <td>43.095793</td>\n",
       "      <td>318.850</td>\n",
       "      <td>0.816229</td>\n",
       "      <td>319.184400</td>\n",
       "      <td>13.793519</td>\n",
       "      <td>317.90</td>\n",
       "      <td>318.30</td>\n",
       "      <td>317.85</td>\n",
       "      <td>-0.35</td>\n",
       "      <td>0.00</td>\n",
       "      <td>-0.001100</td>\n",
       "      <td>-0.001884</td>\n",
       "      <td>-0.000314</td>\n",
       "      <td>-0.000157</td>\n",
       "      <td>-0.000157</td>\n",
       "      <td>-0.001253</td>\n",
       "      <td>-0.000782</td>\n",
       "      <td>0.002035</td>\n",
       "      <td>0.002196</td>\n",
       "    </tr>\n",
       "    <tr>\n",
       "      <th>21</th>\n",
       "      <td>317.80</td>\n",
       "      <td>41.910041</td>\n",
       "      <td>318.795</td>\n",
       "      <td>0.871812</td>\n",
       "      <td>318.917520</td>\n",
       "      <td>15.563131</td>\n",
       "      <td>317.80</td>\n",
       "      <td>318.20</td>\n",
       "      <td>317.60</td>\n",
       "      <td>-0.10</td>\n",
       "      <td>0.00</td>\n",
       "      <td>-0.000315</td>\n",
       "      <td>-0.001100</td>\n",
       "      <td>-0.001884</td>\n",
       "      <td>-0.000314</td>\n",
       "      <td>-0.000157</td>\n",
       "      <td>-0.000157</td>\n",
       "      <td>-0.001253</td>\n",
       "      <td>-0.000782</td>\n",
       "      <td>0.002035</td>\n",
       "    </tr>\n",
       "    <tr>\n",
       "      <th>22</th>\n",
       "      <td>317.40</td>\n",
       "      <td>37.343463</td>\n",
       "      <td>318.630</td>\n",
       "      <td>0.919286</td>\n",
       "      <td>318.654016</td>\n",
       "      <td>17.581703</td>\n",
       "      <td>317.40</td>\n",
       "      <td>317.85</td>\n",
       "      <td>317.40</td>\n",
       "      <td>-0.40</td>\n",
       "      <td>0.00</td>\n",
       "      <td>-0.001259</td>\n",
       "      <td>-0.000315</td>\n",
       "      <td>-0.001100</td>\n",
       "      <td>-0.001884</td>\n",
       "      <td>-0.000314</td>\n",
       "      <td>-0.000157</td>\n",
       "      <td>-0.000157</td>\n",
       "      <td>-0.001253</td>\n",
       "      <td>-0.000782</td>\n",
       "    </tr>\n",
       "    <tr>\n",
       "      <th>23</th>\n",
       "      <td>318.05</td>\n",
       "      <td>46.973248</td>\n",
       "      <td>318.465</td>\n",
       "      <td>0.892114</td>\n",
       "      <td>318.403213</td>\n",
       "      <td>18.123915</td>\n",
       "      <td>318.00</td>\n",
       "      <td>318.15</td>\n",
       "      <td>317.25</td>\n",
       "      <td>0.65</td>\n",
       "      <td>0.05</td>\n",
       "      <td>0.002046</td>\n",
       "      <td>-0.001259</td>\n",
       "      <td>-0.000315</td>\n",
       "      <td>-0.001100</td>\n",
       "      <td>-0.001884</td>\n",
       "      <td>-0.000314</td>\n",
       "      <td>-0.000157</td>\n",
       "      <td>-0.000157</td>\n",
       "      <td>-0.001253</td>\n",
       "    </tr>\n",
       "    <tr>\n",
       "      <th>24</th>\n",
       "      <td>318.65</td>\n",
       "      <td>55.251655</td>\n",
       "      <td>318.380</td>\n",
       "      <td>0.616495</td>\n",
       "      <td>317.250000</td>\n",
       "      <td>16.790058</td>\n",
       "      <td>318.65</td>\n",
       "      <td>318.65</td>\n",
       "      <td>317.85</td>\n",
       "      <td>0.60</td>\n",
       "      <td>0.00</td>\n",
       "      <td>0.001885</td>\n",
       "      <td>0.002046</td>\n",
       "      <td>-0.001259</td>\n",
       "      <td>-0.000315</td>\n",
       "      <td>-0.001100</td>\n",
       "      <td>-0.001884</td>\n",
       "      <td>-0.000314</td>\n",
       "      <td>-0.000157</td>\n",
       "      <td>-0.000157</td>\n",
       "    </tr>\n",
       "  </tbody>\n",
       "</table>\n",
       "</div>"
      ],
      "text/plain": [
       "      Open        RSI      SMA      Corr         SAR        ADX   close  \\\n",
       "20  317.90  43.095793  318.850  0.816229  319.184400  13.793519  317.90   \n",
       "21  317.80  41.910041  318.795  0.871812  318.917520  15.563131  317.80   \n",
       "22  317.40  37.343463  318.630  0.919286  318.654016  17.581703  317.40   \n",
       "23  318.05  46.973248  318.465  0.892114  318.403213  18.123915  318.00   \n",
       "24  318.65  55.251655  318.380  0.616495  317.250000  16.790058  318.65   \n",
       "\n",
       "      high     low    OO    OC   return1   return2   return3   return4  \\\n",
       "20  318.30  317.85 -0.35  0.00 -0.001100 -0.001884 -0.000314 -0.000157   \n",
       "21  318.20  317.60 -0.10  0.00 -0.000315 -0.001100 -0.001884 -0.000314   \n",
       "22  317.85  317.40 -0.40  0.00 -0.001259 -0.000315 -0.001100 -0.001884   \n",
       "23  318.15  317.25  0.65  0.05  0.002046 -0.001259 -0.000315 -0.001100   \n",
       "24  318.65  317.85  0.60  0.00  0.001885  0.002046 -0.001259 -0.000315   \n",
       "\n",
       "     return5   return6   return7   return8   return9  \n",
       "20 -0.000157 -0.001253 -0.000782  0.002035  0.002196  \n",
       "21 -0.000157 -0.000157 -0.001253 -0.000782  0.002035  \n",
       "22 -0.000314 -0.000157 -0.000157 -0.001253 -0.000782  \n",
       "23 -0.001884 -0.000314 -0.000157 -0.000157 -0.001253  \n",
       "24 -0.001100 -0.001884 -0.000314 -0.000157 -0.000157  "
      ]
     },
     "execution_count": 22,
     "metadata": {},
     "output_type": "execute_result"
    }
   ],
   "source": [
    "X.head()"
   ]
  },
  {
   "cell_type": "markdown",
   "metadata": {},
   "source": [
    "Let us take a 2D look at the y values to see if they are linearly separable by our X features. \n",
    "The y values (0, -1 and 1) will be represented as 3 colors on a 2D graph. \n",
    "The 2Ds will be two arbitrarily selected features, say SMA and RSI. \n",
    "First we select our two features, SMA and RSI and print them (to make sure all is ok) and same for our y values."
   ]
  },
  {
   "cell_type": "code",
   "execution_count": 23,
   "metadata": {},
   "outputs": [
    {
     "name": "stdout",
     "output_type": "stream",
     "text": [
      "Our selected features: \n",
      "        SMA        RSI\n",
      "20  318.85  43.095793\n",
      "Our X2D, first three rows: \n",
      " [[318.85        43.09579277]\n",
      " [318.795       41.91004126]\n",
      " [318.63        37.34346319]]\n",
      "Our y values, first six rows:  [-1 -1  1  1 -1  0]\n"
     ]
    }
   ],
   "source": [
    "X2D = X[['SMA','RSI']]\n",
    "print(\"Our selected features: \\n\", X2D.head(1))\n",
    "X2D_arr=X2D.values\n",
    "print(\"Our X2D, first three rows: \\n\", X2D_arr[0:3,:])\n",
    "y_arr=y.values\n",
    "print(\"Our y values, first six rows: \", y_arr[0:6])"
   ]
  },
  {
   "cell_type": "markdown",
   "metadata": {},
   "source": [
    "Now we plot:"
   ]
  },
  {
   "cell_type": "code",
   "execution_count": 24,
   "metadata": {},
   "outputs": [
    {
     "name": "stdout",
     "output_type": "stream",
     "text": [
      "X2D.shape: (729, 2)\n"
     ]
    },
    {
     "data": {
      "image/png": "[encoded data removed]",
      "text/plain": [
       "<Figure size 360x360 with 1 Axes>"
      ]
     },
     "metadata": {
      "needs_background": "light"
     },
     "output_type": "display_data"
    }
   ],
   "source": [
    "# plot\n",
    "%matplotlib inline\n",
    "plt.figure(figsize=(5, 5))\n",
    "plt.scatter(X2D_arr[:, 0], X2D_arr[:, 1], c=y_arr)\n",
    "plt.legend([\"Class 0\",\"Class 1\",\"Class 1\"], loc=2)\n",
    "plt.xlabel(\"First feature\")\n",
    "plt.ylabel(\"Second feature\")\n",
    "print(\"X2D.shape:\", X2D_arr.shape)"
   ]
  },
  {
   "cell_type": "markdown",
   "metadata": {},
   "source": [
    "Now we select our two other features, ADX and Corr and print them (to make sure all is ok) and same for our y values."
   ]
  },
  {
   "cell_type": "code",
   "execution_count": 25,
   "metadata": {},
   "outputs": [
    {
     "name": "stdout",
     "output_type": "stream",
     "text": [
      "Our selected features: \n",
      "           ADX      Corr\n",
      "20  13.793519  0.816229\n",
      "Our X2D, first three rows: \n",
      " [[13.79351895  0.81622948]\n",
      " [15.56313071  0.87181248]\n",
      " [17.58170343  0.91928604]]\n",
      "Our y values, first six rows:  [-1 -1  1  1 -1  0]\n"
     ]
    }
   ],
   "source": [
    "X2D = X[['ADX','Corr']]\n",
    "print(\"Our selected features: \\n\", X2D.head(1))\n",
    "X2D_arr=X2D.values\n",
    "print(\"Our X2D, first three rows: \\n\", X2D_arr[0:3,:])\n",
    "y_arr=y.values\n",
    "print(\"Our y values, first six rows: \", y_arr[0:6])"
   ]
  },
  {
   "cell_type": "markdown",
   "metadata": {},
   "source": [
    "Now we plot:"
   ]
  },
  {
   "cell_type": "code",
   "execution_count": 26,
   "metadata": {},
   "outputs": [
    {
     "name": "stdout",
     "output_type": "stream",
     "text": [
      "X2D.shape: (729, 2)\n"
     ]
    },
    {
     "data": {
      "image/png": "[encoded data removed]",
      "text/plain": [
       "<Figure size 360x360 with 1 Axes>"
      ]
     },
     "metadata": {
      "needs_background": "light"
     },
     "output_type": "display_data"
    }
   ],
   "source": [
    "# plot\n",
    "%matplotlib inline\n",
    "plt.figure(figsize=(5, 5))\n",
    "plt.scatter(X2D_arr[:, 0], X2D_arr[:, 1], c=y_arr)\n",
    "plt.legend([\"Class 0\",\"Class 1\",\"Class 1\"], loc=2)\n",
    "plt.xlabel(\"First feature\")\n",
    "plt.ylabel(\"Second feature\")\n",
    "print(\"X2D.shape:\", X2D_arr.shape)"
   ]
  },
  {
   "cell_type": "markdown",
   "metadata": {},
   "source": [
    "Again we choose two features:"
   ]
  },
  {
   "cell_type": "code",
   "execution_count": 27,
   "metadata": {},
   "outputs": [
    {
     "name": "stdout",
     "output_type": "stream",
     "text": [
      "Our selected features: \n",
      "          SAR        ADX\n",
      "20  319.1844  13.793519\n",
      "Our X2D, first three rows: \n",
      " [[319.1844      13.79351895]\n",
      " [318.91752     15.56313071]\n",
      " [318.654016    17.58170343]]\n",
      "Our y values, first six rows:  [-1 -1  1  1 -1  0]\n"
     ]
    }
   ],
   "source": [
    "X2D = X[['SAR','ADX']]\n",
    "print(\"Our selected features: \\n\", X2D.head(1))\n",
    "X2D_arr=X2D.values\n",
    "print(\"Our X2D, first three rows: \\n\", X2D_arr[0:3,:])\n",
    "y_arr=y.values\n",
    "print(\"Our y values, first six rows: \", y_arr[0:6])"
   ]
  },
  {
   "cell_type": "markdown",
   "metadata": {},
   "source": [
    "Again we plot:"
   ]
  },
  {
   "cell_type": "code",
   "execution_count": 28,
   "metadata": {},
   "outputs": [
    {
     "name": "stdout",
     "output_type": "stream",
     "text": [
      "X2D.shape: (729, 2)\n"
     ]
    },
    {
     "data": {
      "image/png": "[encoded data removed]",
      "text/plain": [
       "<Figure size 360x360 with 1 Axes>"
      ]
     },
     "metadata": {
      "needs_background": "light"
     },
     "output_type": "display_data"
    }
   ],
   "source": [
    "# plot\n",
    "%matplotlib inline\n",
    "plt.figure(figsize=(5, 5))\n",
    "plt.scatter(X2D_arr[:, 0], X2D_arr[:, 1], c=y_arr)\n",
    "plt.legend([\"Class 0\",\"Class 1\",\"Class 1\"], loc=2)\n",
    "plt.xlabel(\"First feature\")\n",
    "plt.ylabel(\"Second feature\")\n",
    "print(\"X2D.shape:\", X2D_arr.shape)"
   ]
  },
  {
   "cell_type": "markdown",
   "metadata": {},
   "source": [
    "## FINDING BEST PARAMETERS"
   ]
  },
  {
   "cell_type": "markdown",
   "metadata": {},
   "source": [
    "### Pipeline and Functions\n",
    "\n",
    "As the very first step to finding the best hyper parameters among C, Gamma and Kernel, we will first create a pipeline of functions which are required to run in a certain order on the training data. "
   ]
  },
  {
   "cell_type": "markdown",
   "metadata": {},
   "source": [
    "The ‘steps’ contains references to functions that would be applied on the data when called through a pipeline function. In this case, we will scale the data first and then fit it to the SVC function. This is done to avoid effect of the individual weights of the features.\n"
   ]
  },
  {
   "cell_type": "code",
   "execution_count": 29,
   "metadata": {},
   "outputs": [],
   "source": [
    "steps = [\n",
    "         \t\t('scaler',StandardScaler()),\n",
    "        \t\t('svc',SVC())\n",
    "              ]\n",
    "pipeline =Pipeline(steps)"
   ]
  },
  {
   "cell_type": "code",
   "execution_count": 30,
   "metadata": {},
   "outputs": [],
   "source": [
    "tscv = TimeSeriesSplit(n_splits=7)\n",
    "tscv_fw = fwTimeSeriesSplit(n_splits=7)"
   ]
  },
  {
   "cell_type": "markdown",
   "metadata": {},
   "source": [
    "### Hyper-Parameters\n",
    "\n",
    "The Hyper parameters are iterated over to arrive at the best possible combination for the given training data. These test values can be changed as per your choice. Here, we have chosen 4 test values for ‘c_gs’ and 3 test values for ‘g_gs’.  Similarly for random search we have included a range of parameter values."
   ]
  },
  {
   "cell_type": "code",
   "execution_count": 31,
   "metadata": {},
   "outputs": [],
   "source": [
    "#for grid search\n",
    "c_gs =[10,100,1000,10000]\n",
    "g_gs = [1e-2,1e-1,1e0] \n",
    "\n",
    "#for random search\n",
    "c_rs = np.linspace(10, 10000, num=40, endpoint=True)\n",
    "g_rs = np.linspace(1e-2, 1e0, num=30, endpoint=True)"
   ]
  },
  {
   "cell_type": "markdown",
   "metadata": {},
   "source": [
    "The RBF is used as a singular entry in the kernel parameters, since we already know we want to use this kernel. But you can go ahead and  try other kernel functions, such as linear, poly and sigmoid. Do remember: A higher number of parameters would result in a longer time for the code to run. "
   ]
  },
  {
   "cell_type": "code",
   "execution_count": 32,
   "metadata": {},
   "outputs": [],
   "source": [
    "#set of parameters for grid search\n",
    "parameters_gs = {\n",
    "              \t\t'svc__C':c_gs,\n",
    "              \t\t'svc__gamma':g_gs,\n",
    "              \t\t'svc__kernel': ['rbf', 'poly']\n",
    "             \t           }\n",
    "#set of parameters for random search\n",
    "parameters_rs = {\n",
    "              \t\t'svc__C':c_rs,\n",
    "              \t\t'svc__gamma':g_rs,\n",
    "              \t\t'svc__kernel': ['rbf', 'poly']\n",
    "             \t           }"
   ]
  },
  {
   "cell_type": "code",
   "execution_count": 33,
   "metadata": {},
   "outputs": [
    {
     "data": {
      "text/html": [
       "<div>\n",
       "<style scoped>\n",
       "    .dataframe tbody tr th:only-of-type {\n",
       "        vertical-align: middle;\n",
       "    }\n",
       "\n",
       "    .dataframe tbody tr th {\n",
       "        vertical-align: top;\n",
       "    }\n",
       "\n",
       "    .dataframe thead th {\n",
       "        text-align: right;\n",
       "    }\n",
       "</style>\n",
       "<table border=\"1\" class=\"dataframe\">\n",
       "  <thead>\n",
       "    <tr style=\"text-align: right;\">\n",
       "      <th></th>\n",
       "      <th>Time</th>\n",
       "      <th>Open</th>\n",
       "      <th>High</th>\n",
       "      <th>Low</th>\n",
       "      <th>Close</th>\n",
       "      <th>Volume</th>\n",
       "      <th>RSI</th>\n",
       "      <th>SMA</th>\n",
       "      <th>Corr</th>\n",
       "      <th>SAR</th>\n",
       "      <th>...</th>\n",
       "      <th>Ret</th>\n",
       "      <th>return1</th>\n",
       "      <th>return2</th>\n",
       "      <th>return3</th>\n",
       "      <th>return4</th>\n",
       "      <th>return5</th>\n",
       "      <th>return6</th>\n",
       "      <th>return7</th>\n",
       "      <th>return8</th>\n",
       "      <th>return9</th>\n",
       "    </tr>\n",
       "    <tr>\n",
       "      <th>Signal</th>\n",
       "      <th></th>\n",
       "      <th></th>\n",
       "      <th></th>\n",
       "      <th></th>\n",
       "      <th></th>\n",
       "      <th></th>\n",
       "      <th></th>\n",
       "      <th></th>\n",
       "      <th></th>\n",
       "      <th></th>\n",
       "      <th></th>\n",
       "      <th></th>\n",
       "      <th></th>\n",
       "      <th></th>\n",
       "      <th></th>\n",
       "      <th></th>\n",
       "      <th></th>\n",
       "      <th></th>\n",
       "      <th></th>\n",
       "      <th></th>\n",
       "      <th></th>\n",
       "    </tr>\n",
       "  </thead>\n",
       "  <tbody>\n",
       "    <tr>\n",
       "      <th>-1</th>\n",
       "      <td>235</td>\n",
       "      <td>235</td>\n",
       "      <td>235</td>\n",
       "      <td>235</td>\n",
       "      <td>235</td>\n",
       "      <td>235</td>\n",
       "      <td>235</td>\n",
       "      <td>235</td>\n",
       "      <td>235</td>\n",
       "      <td>235</td>\n",
       "      <td>...</td>\n",
       "      <td>235</td>\n",
       "      <td>235</td>\n",
       "      <td>235</td>\n",
       "      <td>235</td>\n",
       "      <td>235</td>\n",
       "      <td>235</td>\n",
       "      <td>235</td>\n",
       "      <td>235</td>\n",
       "      <td>235</td>\n",
       "      <td>235</td>\n",
       "    </tr>\n",
       "    <tr>\n",
       "      <th>0</th>\n",
       "      <td>252</td>\n",
       "      <td>252</td>\n",
       "      <td>252</td>\n",
       "      <td>252</td>\n",
       "      <td>252</td>\n",
       "      <td>252</td>\n",
       "      <td>252</td>\n",
       "      <td>252</td>\n",
       "      <td>252</td>\n",
       "      <td>252</td>\n",
       "      <td>...</td>\n",
       "      <td>252</td>\n",
       "      <td>252</td>\n",
       "      <td>252</td>\n",
       "      <td>252</td>\n",
       "      <td>252</td>\n",
       "      <td>252</td>\n",
       "      <td>252</td>\n",
       "      <td>252</td>\n",
       "      <td>252</td>\n",
       "      <td>252</td>\n",
       "    </tr>\n",
       "    <tr>\n",
       "      <th>1</th>\n",
       "      <td>242</td>\n",
       "      <td>242</td>\n",
       "      <td>242</td>\n",
       "      <td>242</td>\n",
       "      <td>242</td>\n",
       "      <td>242</td>\n",
       "      <td>242</td>\n",
       "      <td>242</td>\n",
       "      <td>242</td>\n",
       "      <td>242</td>\n",
       "      <td>...</td>\n",
       "      <td>242</td>\n",
       "      <td>242</td>\n",
       "      <td>242</td>\n",
       "      <td>242</td>\n",
       "      <td>242</td>\n",
       "      <td>242</td>\n",
       "      <td>242</td>\n",
       "      <td>242</td>\n",
       "      <td>242</td>\n",
       "      <td>242</td>\n",
       "    </tr>\n",
       "  </tbody>\n",
       "</table>\n",
       "<p>3 rows × 26 columns</p>\n",
       "</div>"
      ],
      "text/plain": [
       "        Time  Open  High  Low  Close  Volume  RSI  SMA  Corr  SAR  ...  Ret  \\\n",
       "Signal                                                             ...        \n",
       "-1       235   235   235  235    235     235  235  235   235  235  ...  235   \n",
       " 0       252   252   252  252    252     252  252  252   252  252  ...  252   \n",
       " 1       242   242   242  242    242     242  242  242   242  242  ...  242   \n",
       "\n",
       "        return1  return2  return3  return4  return5  return6  return7  \\\n",
       "Signal                                                                  \n",
       "-1          235      235      235      235      235      235      235   \n",
       " 0          252      252      252      252      252      252      252   \n",
       " 1          242      242      242      242      242      242      242   \n",
       "\n",
       "        return8  return9  \n",
       "Signal                    \n",
       "-1          235      235  \n",
       " 0          252      252  \n",
       " 1          242      242  \n",
       "\n",
       "[3 rows x 26 columns]"
      ]
     },
     "execution_count": 33,
     "metadata": {},
     "output_type": "execute_result"
    }
   ],
   "source": [
    "Df.groupby(\"Signal\").count() #shows -1, 0 and 1 occur in roughly equal numbers"
   ]
  },
  {
   "cell_type": "markdown",
   "metadata": {},
   "source": [
    "## GRID OR RANDOMIZED SEARCH OPTIONS"
   ]
  },
  {
   "cell_type": "markdown",
   "metadata": {},
   "source": [
    "Next, we create a parameter optimizing function with a cross validation value of cv=7. This value can be anything more than or equal to 3. Alternatively cv=tscv or cv=tscv_fw. The concept of cross validation is used to arrive at the scores of different random combinations of the hyper parameters.\n",
    "These scores would be used to find the best parameters and create a newly optimized Support vector classifier."
   ]
  },
  {
   "cell_type": "code",
   "execution_count": 34,
   "metadata": {},
   "outputs": [],
   "source": [
    "from sklearn.metrics import SCORERS\n",
    "#sorted(SCORERS.keys()) #to get available scorers"
   ]
  },
  {
   "cell_type": "code",
   "execution_count": 35,
   "metadata": {},
   "outputs": [],
   "source": [
    "#cvo = GridSearchCV(pipeline, parameters_gs,cv=7, scoring=None)\n",
    "#cvo = RandomizedSearchCV(pipeline, parameters_rs,cv=7, scoring=None, n_iter=50, random_state=None)\n",
    "cvo = RandomizedSearchCV(pipeline, parameters_rs,cv=tscv, scoring=None, n_iter= 50, random_state=70) #7 \n",
    "#cvo = RandomizedSearchCV(pipeline, parameters_rs,cv=tscv_fw, scoring=None, n_iter=50, random_state=None)"
   ]
  },
  {
   "cell_type": "markdown",
   "metadata": {},
   "source": [
    "### Training on and fetching the best parameters\n",
    "             \n",
    "Next, we fit the train data to the 'randomized search cross validation' function to obtain the best hyper parameters. The best parameters can be obtained using the best_params function."
   ]
  },
  {
   "cell_type": "code",
   "execution_count": 36,
   "metadata": {},
   "outputs": [],
   "source": [
    "cvo.fit(X.iloc[:split],y.iloc[:split])\n",
    "best_C = cvo.best_params_['svc__C']\n",
    "best_kernel =cvo.best_params_['svc__kernel']\n",
    "best_gamma=cvo.best_params_['svc__gamma']"
   ]
  },
  {
   "cell_type": "markdown",
   "metadata": {},
   "source": [
    "## CREATING THE SEARCH VECTOR MODEL"
   ]
  },
  {
   "cell_type": "markdown",
   "metadata": {},
   "source": [
    "### Creating the new SVC\n",
    "\n",
    "In this line of code we instantiate a new support vector classifier function with the best hyper parameters. "
   ]
  },
  {
   "cell_type": "code",
   "execution_count": 37,
   "metadata": {},
   "outputs": [],
   "source": [
    "cls = SVC(C =best_C,kernel=best_kernel, gamma=best_gamma)"
   ]
  },
  {
   "cell_type": "markdown",
   "metadata": {},
   "source": [
    "### Training and Predicting\n",
    "\n",
    "As done previously for finding best hyper parameters, we will first scale the data before we fit it to the classifier to train on. To do this, we fist instantiate a Standard Scaler function."
   ]
  },
  {
   "cell_type": "code",
   "execution_count": 38,
   "metadata": {},
   "outputs": [],
   "source": [
    "ss1= StandardScaler()"
   ]
  },
  {
   "cell_type": "markdown",
   "metadata": {},
   "source": [
    "We use the scaled training data to train the classifier algorithm."
   ]
  },
  {
   "cell_type": "code",
   "execution_count": 39,
   "metadata": {},
   "outputs": [
    {
     "data": {
      "text/plain": [
       "SVC(C=7694.615384615384, break_ties=False, cache_size=200, class_weight=None,\n",
       "    coef0=0.0, decision_function_shape='ovr', degree=3, gamma=0.01,\n",
       "    kernel='poly', max_iter=-1, probability=False, random_state=None,\n",
       "    shrinking=True, tol=0.001, verbose=False)"
      ]
     },
     "execution_count": 39,
     "metadata": {},
     "output_type": "execute_result"
    }
   ],
   "source": [
    "cls.fit(ss1.fit_transform(X.iloc[:split]),y.iloc[:split])"
   ]
  },
  {
   "cell_type": "markdown",
   "metadata": {},
   "source": [
    "After the previous step, our prediction model is ready! \n",
    "\n",
    "Next, we use the test data to make predictions and save the value of output ‘y’ in a list called 'y_predict'. This list will have the predicted values of ‘Signal’ for the test data.  "
   ]
  },
  {
   "cell_type": "code",
   "execution_count": 40,
   "metadata": {},
   "outputs": [],
   "source": [
    "y_predict =cls.predict(ss1.transform(X.iloc[split:]))"
   ]
  },
  {
   "cell_type": "code",
   "execution_count": 41,
   "metadata": {},
   "outputs": [
    {
     "data": {
      "text/plain": [
       "array([ 0,  0,  1,  1,  1, -1, -1,  0,  0, -1,  0,  0, -1,  1,  0, -1,  1,\n",
       "        0, -1,  0,  0,  0, -1,  1, -1,  1,  0, -1,  0, -1, -1, -1,  1, -1,\n",
       "        1,  0,  0,  1,  0, -1,  1, -1, -1,  0,  0,  1, -1,  0, -1,  0,  1,\n",
       "       -1,  1,  1,  1,  0, -1,  0, -1,  1, -1,  1, -1,  1,  1, -1,  0, -1,\n",
       "       -1,  1,  0,  0, -1, -1,  1,  0,  0,  1, -1,  0,  0,  1, -1,  0,  0,\n",
       "        0, -1,  1,  0,  1,  0,  1, -1, -1, -1,  0, -1,  0,  0,  0,  0, -1,\n",
       "       -1, -1, -1, -1, -1,  0, -1,  0, -1,  0,  0, -1,  0, -1,  0, -1,  1,\n",
       "       -1, -1,  1,  1, -1,  1, -1, -1, -1,  0], dtype=int64)"
      ]
     },
     "execution_count": 41,
     "metadata": {},
     "output_type": "execute_result"
    }
   ],
   "source": [
    "y_predict"
   ]
  },
  {
   "cell_type": "markdown",
   "metadata": {},
   "source": [
    "Now we will create a new column 'Pred_Signal' in ‘Df’ to save all the predictions for both train data and test data."
   ]
  },
  {
   "cell_type": "code",
   "execution_count": 42,
   "metadata": {},
   "outputs": [],
   "source": [
    "Df['Pred_Signal']=0"
   ]
  },
  {
   "cell_type": "markdown",
   "metadata": {},
   "source": [
    "To save predicted 'y' values for test data, we can simply assign 'y_predict' to 'Pred_Signal' using correct indexing specified by .iloc function.\n",
    "To save predicted 'y' values for train data, we make predictions for train data and save it similarly."
   ]
  },
  {
   "cell_type": "code",
   "execution_count": 43,
   "metadata": {},
   "outputs": [],
   "source": [
    "Df.iloc[:split,Df.columns.get_loc('Pred_Signal')]\\\n",
    "       =pd.Series(cls.predict(ss1.transform(X.iloc[:split])).tolist())\n",
    "Df.iloc[split:,Df.columns.get_loc('Pred_Signal')]=y_predict"
   ]
  },
  {
   "cell_type": "markdown",
   "metadata": {},
   "source": [
    "Since, the algorithm was trained on the train data, it’s accuracy of prediction is expected to be better on this train data compared to the test data. You can print these two seperately to check the accuracies. "
   ]
  },
  {
   "cell_type": "markdown",
   "metadata": {},
   "source": [
    "# EVALUATING THE SIGNAL PART OF THE MODEL WITH A CLASSIFICATION REPORT AND CONFUSION MATRIX VS. DUMMY"
   ]
  },
  {
   "cell_type": "code",
   "execution_count": 44,
   "metadata": {},
   "outputs": [],
   "source": [
    "from sklearn.metrics import confusion_matrix\n",
    "from sklearn.metrics import plot_confusion_matrix\n",
    "from sklearn.utils.multiclass import unique_labels\n",
    "from sklearn.dummy import DummyClassifier\n",
    "from sklearn.metrics import classification_report"
   ]
  },
  {
   "cell_type": "markdown",
   "metadata": {},
   "source": [
    "Evaluation by a Dummy Classifier"
   ]
  },
  {
   "cell_type": "code",
   "execution_count": 45,
   "metadata": {},
   "outputs": [
    {
     "name": "stdout",
     "output_type": "stream",
     "text": [
      "              precision    recall  f1-score   support\n",
      "\n",
      "          -1       0.26      0.42      0.32        31\n",
      "           0       0.52      0.40      0.45        60\n",
      "           1       0.21      0.18      0.20        38\n",
      "\n",
      "    accuracy                           0.34       129\n",
      "   macro avg       0.33      0.33      0.32       129\n",
      "weighted avg       0.37      0.34      0.35       129\n",
      "\n"
     ]
    },
    {
     "data": {
      "text/plain": [
       "<sklearn.metrics._plot.confusion_matrix.ConfusionMatrixDisplay at 0x235c12bcec8>"
      ]
     },
     "execution_count": 45,
     "metadata": {},
     "output_type": "execute_result"
    },
    {
     "data": {
      "image/png": "[encoded data removed]",
      "text/plain": [
       "<Figure size 432x288 with 2 Axes>"
      ]
     },
     "metadata": {
      "needs_background": "light"
     },
     "output_type": "display_data"
    }
   ],
   "source": [
    "cls_d = DummyClassifier(strategy='uniform',random_state=1) #can substitute for some other strategy\n",
    "cls_d.fit(ss1.fit_transform(X.iloc[:split]),y.iloc[:split])\n",
    "y_predict_d =cls_d.predict(ss1.transform(X.iloc[split:]))\n",
    "\n",
    "#Plot classification report onfusion matrix of dummy\n",
    "print(classification_report(Df['Signal'].iloc[split:], y_predict_d))\n",
    "#plot_confusion_matrix(cls_d,ss1.transform(X.iloc[split:]),Df['Signal'].iloc[split:])\n",
    "plot_confusion_matrix(cls_d,ss1.transform(X.iloc[split:]),Df['Signal'].iloc[split:], normalize='true')"
   ]
  },
  {
   "cell_type": "markdown",
   "metadata": {},
   "source": [
    "Next we se the classification report and confusion matrix of our classifier. Thay should be better than those of the dummy classifier above:"
   ]
  },
  {
   "cell_type": "code",
   "execution_count": 46,
   "metadata": {},
   "outputs": [
    {
     "name": "stdout",
     "output_type": "stream",
     "text": [
      "              precision    recall  f1-score   support\n",
      "\n",
      "          -1       0.35      0.58      0.43        31\n",
      "           0       0.59      0.45      0.51        60\n",
      "           1       0.45      0.37      0.41        38\n",
      "\n",
      "    accuracy                           0.46       129\n",
      "   macro avg       0.46      0.47      0.45       129\n",
      "weighted avg       0.49      0.46      0.46       129\n",
      "\n"
     ]
    },
    {
     "data": {
      "text/plain": [
       "<sklearn.metrics._plot.confusion_matrix.ConfusionMatrixDisplay at 0x235c1359808>"
      ]
     },
     "execution_count": 46,
     "metadata": {},
     "output_type": "execute_result"
    },
    {
     "data": {
      "image/png": "[encoded data removed]",
      "text/plain": [
       "<Figure size 432x288 with 2 Axes>"
      ]
     },
     "metadata": {
      "needs_background": "light"
     },
     "output_type": "display_data"
    }
   ],
   "source": [
    "#ploy classification report and confusion matrix of our classifier\n",
    "print(classification_report(Df['Signal'].iloc[split:], y_predict))\n",
    "#plot_confusion_matrix(cls,ss1.transform(X.iloc[split:]),Df['Signal'].iloc[split:])\n",
    "plot_confusion_matrix(cls,ss1.transform(X.iloc[split:]),Df['Signal'].iloc[split:], normalize='true')"
   ]
  },
  {
   "cell_type": "markdown",
   "metadata": {},
   "source": [
    "## USING THE MODEL FOR TRADING STRATEGY "
   ]
  },
  {
   "cell_type": "markdown",
   "metadata": {},
   "source": [
    "### Trading Strategy \n",
    "        \n",
    "Our trading strategy is simply to buy/sell/do-nothing at that period for which the Signal is generated by the algorithm. The strategy assumes that you always get a fill at the \"Open\" prices. \n",
    "\n",
    "### Analysing the Performance\n",
    "\n",
    "Recall, we had calculated and saved returns on 'Open' prices in 'Ret'. We will create a column named Ret1 to store the strategy’s returns based on the Signal. ‘Cu_Ret1’ is initialized to hold cumulative returns of our strategy.  "
   ]
  },
  {
   "cell_type": "code",
   "execution_count": 47,
   "metadata": {},
   "outputs": [],
   "source": [
    "Df['Ret1']=Df['Ret']*Df['Pred_Signal'] \n",
    "Df['Cu_Ret1']=0."
   ]
  },
  {
   "cell_type": "markdown",
   "metadata": {},
   "source": [
    "Please note that here we are using only the test data to compare the performance of the strategy. You can pass the entire 'Ret1' column and check the performance on both the test and train data if you wish to."
   ]
  },
  {
   "cell_type": "code",
   "execution_count": 48,
   "metadata": {},
   "outputs": [],
   "source": [
    "Df['Cu_Ret1']=np.cumsum(Df['Ret1'].iloc[split:])"
   ]
  },
  {
   "cell_type": "markdown",
   "metadata": {},
   "source": [
    "Now, we will create a column named 'Cu_Ret' to store the cumulative market’s returns for the test data."
   ]
  },
  {
   "cell_type": "code",
   "execution_count": 49,
   "metadata": {},
   "outputs": [],
   "source": [
    "Df['Cu_Ret']=0.\n",
    "Df['Cu_Ret']=np.cumsum(Df['Ret'].iloc[split:])"
   ]
  },
  {
   "cell_type": "markdown",
   "metadata": {},
   "source": [
    "Next, we will calculate the standard deviation of the cumulative strategy returns, and use it to further to calculate the Sharpe ratio, which is used as a measure for the strategy's performance."
   ]
  },
  {
   "cell_type": "code",
   "execution_count": 50,
   "metadata": {},
   "outputs": [
    {
     "name": "stdout",
     "output_type": "stream",
     "text": [
      "Sharpe Ratio: 2.4991510767921765\n"
     ]
    }
   ],
   "source": [
    "Std =np.std(Df['Cu_Ret1'])\n",
    "Sharpe = (Df['Cu_Ret1'].iloc[-1]-Df['Cu_Ret'].iloc[-1])/Std #will not annualize this because the data is intraday data\n",
    "print('Sharpe Ratio:',Sharpe)"
   ]
  },
  {
   "cell_type": "markdown",
   "metadata": {},
   "source": [
    "### Plot the result\n",
    "\n",
    "Now you can plot the results to visualize the performance.\n"
   ]
  },
  {
   "cell_type": "code",
   "execution_count": 51,
   "metadata": {},
   "outputs": [
    {
     "data": {
      "image/png": "[encoded data removed]",
      "text/plain": [
       "<Figure size 432x288 with 1 Axes>"
      ]
     },
     "metadata": {
      "needs_background": "light"
     },
     "output_type": "display_data"
    }
   ],
   "source": [
    "plt.plot(Df['Cu_Ret1'],color='r',label='Strategy Returns')\n",
    "plt.plot(Df['Cu_Ret'],color='g',label='Market Returns')\n",
    "plt.figtext(0.14,0.7,s='Sharpe ratio: %.2f'%Sharpe)\n",
    "plt.legend(loc='best')\n",
    "plt.show()"
   ]
  },
  {
   "cell_type": "code",
   "execution_count": 52,
   "metadata": {},
   "outputs": [],
   "source": [
    "#Having run the code a number of times with fixed window and with growing window TimeSeriesSplit, that is:\n",
    "#tscv = TimeSeriesSplit(n_splits=7)\n",
    "#tscv = fwTimeSeriesSplit(n_splits=7)\n",
    "#The maximum values are:\n",
    "#Sharpe Ratio: --- with growing window (maximum)\n",
    "#Sharpe Ratio: --- with fixed window (maximum)"
   ]
  },
  {
   "cell_type": "markdown",
   "metadata": {},
   "source": [
    "To find out if the trading results (the profits) are by chance, it is necessary to run White's Reality Check."
   ]
  },
  {
   "cell_type": "code",
   "execution_count": 53,
   "metadata": {},
   "outputs": [
    {
     "name": "stdout",
     "output_type": "stream",
     "text": [
      "    average return 0.006357\n",
      "     [-0.00474277  0.00503302]\n",
      "    Reject Ho = The population distribution of rule returns has an expected value of zero or less (because p_value is small enough)\n",
      "    p_value: 0.005800000000000027\n",
      "done!\n"
     ]
    }
   ],
   "source": [
    "import WhiteRealityCheckFor1 \n",
    "import detrendPrice \n",
    "#Detrend prices before calculating detrended returns\n",
    "Df['DetOpen'] = detrendPrice.detrendPrice(Df['Open']).values \n",
    "#these are the detrended returns to be fed to White's Reality Check\n",
    "Df['DetRet']=np.log(Df['DetOpen'].shift(-1)/Df['DetOpen'])\n",
    "Df['DetStrategy']=Df['DetRet']*Df['Pred_Signal'] \n",
    "WhiteRealityCheckFor1.bootstrap(Df['DetStrategy'].iloc[split:])\n",
    "print(\"done!\")"
   ]
  },
  {
   "cell_type": "markdown",
   "metadata": {},
   "source": [
    "INTERPRETATION OF CLASSIFICATION REPORT FOR CLASSIFIER PREDICTING A BINARY LABEL TARGET\n",
    "\n",
    "    Balanced class: In this situation, the F1 score can effectively be ignored, the mis-classification rate is key.\n",
    "    Unbalanced class, but both classes are important: If the class distribution is highly skewed (such as 80:20 or 90:10), then a classifier can get a low mis-classification rate simply by choosing the majority class. In such a situation, choose the classifier that gets high F1 scores on both classes, as well as low mis-classification rate. A classifier that gets low F1-scores should be overlooked.\n",
    "    Unbalanced class, but one class if more important that the other. For e.g. in Fraud detection, it is more important to correctly label an instance as fraudulent, as opposed to labeling the non-fraudulent one. In this case, pick the classifier that has a good F1 score only on the important class. \n",
    "\n",
    "Always: compare the results with those of a dummy classifier\n"
   ]
  },
  {
   "cell_type": "markdown",
   "metadata": {},
   "source": [
    "# Answer to Questions:\n",
    "\n",
    "## Question 1:\n",
    "Regarding, \n",
    "\n",
    "cvo = RandomizedSearchCV(pipeline, parameters_rs,cv=tscv, scoring=None, n_iter= 50, random_state=7) \n",
    "\n",
    ",specifically, parameter parameters_rs, in particular the line,\n",
    "\n",
    "parameters_rs = {\n",
    "              \t\t'svc__C':c_rs,\n",
    "              \t\t'svc__gamma':g_rs,\n",
    "              \t\t'svc__kernel': ['rbf', 'poly']\n",
    "             \t           }\n",
    "                           \n",
    "Does this line need to be modified to \n",
    "\n",
    "parameters_rs = {\n",
    "              \t\t'svc__C':c_rs,\n",
    "              \t\t'svc__gamma':g_rs,\n",
    "              \t\t'svc__kernel': ['rbf', 'poly', 'linear']\n",
    "             \t           }\n",
    "\n",
    "Why or why not? \n",
    "\n",
    "## Answer to Q1:\n",
    "\n",
    "No. It's not needed to add the linear kernel. \n",
    "According to data visualization, it is clear that the dataset is not linearly separable. \n",
    "Thus it requires a non-linear kernel such as rbf or polynommial.\n"
   ]
  },
  {
   "cell_type": "markdown",
   "metadata": {},
   "source": [
    "## Question 2 \n",
    "Regarding, \n",
    "\n",
    "cvo = RandomizedSearchCV(pipeline, parameters_rs,cv=tscv, scoring=None, n_iter= 50, random_state=7) \n",
    "\n",
    ",specifically, scoring = None, What is the actual value of this parameter? Does it need to be changed? Why or why not?\n",
    "\n",
    "## Answer to Q2:\n",
    "\n",
    "When scoring = None, the estimator’s scoring method is used. In this case it is SVC's default scoring.\n",
    "SVC's scoring return the mean accuracy on the given test data and labels, which is used here. \n",
    "Different scoring measures can be used here, for example, \"precision\" or \"roc_auc\", or multiple metrics can be evaluated at the same time by changing this value to a list of strings."
   ]
  },
  {
   "cell_type": "markdown",
   "metadata": {},
   "source": [
    "## Question 3\n",
    "\n",
    "Regarding,\n",
    "\n",
    "cvo = RandomizedSearchCV(pipeline, parameters_rs,cv=tscv, scoring=None, n_iter= 50, random_state=7) \n",
    "\n",
    ",specifically, cv=tscv, Does this parameter influence the results a lot if you change it to cv=7 or cv=tscv_fw or cv=tscv\n",
    "In theory, which is the best setting (assuming scoring function is unchanged).\n",
    "\n"
   ]
  },
  {
   "cell_type": "code",
   "execution_count": 8,
   "metadata": {},
   "outputs": [
    {
     "name": "stdout",
     "output_type": "stream",
     "text": [
      "cv =  7\n",
      "    SVC Classifier, accuracy= 0.434\n",
      "Sharpe,  3.326813591969702 ; WhiteRealityCheck p-value,  0.02739999999999998\n",
      "\n",
      "cv =  tscv\n",
      "    SVC Classifier, accuracy= 0.419\n",
      "Sharpe,  3.1866759927987247 ; WhiteRealityCheck p-value,  0.041000000000000036\n",
      "\n",
      "cv =  tscv_fw\n",
      "    SVC Classifier, accuracy= 0.364\n",
      "Sharpe,  3.033072850221856 ; WhiteRealityCheck p-value,  0.03639999999999999\n",
      "\n"
     ]
    }
   ],
   "source": [
    "import ClassificationSVM_SPY\n",
    "n=10\n",
    "for cv_test in [7,\"tscv\",\"tscv_fw\"]:\n",
    "    print(\"cv = \", cv_test)\n",
    "    if cv_test == 7:\n",
    "        cv_test= \"CV7\"\n",
    "    Sharpe, WhiteRealityCheck_p_value = ClassificationSVM_SPY.SVC_model(n,cv_model=cv_test,random_state_model=7)\n",
    "    print(\"Sharpe, \", Sharpe, \"; WhiteRealityCheck p-value, \", WhiteRealityCheck_p_value)\n",
    "    print()"
   ]
  },
  {
   "cell_type": "markdown",
   "metadata": {},
   "source": [
    "## Answer to Q3:\n",
    "\n",
    "Models are training based on the three different ways of splitting the data, cv=7, tscv and tscv_fw. Sharpe ratios are quite similar and WhiteRealityCheck p-value is low which implies strong statistical significance. The answer is YES, using different splitting methods will slightly change the result.\n",
    "\n",
    "tscv_fw and tscv are both timeseries split. tscv_fw has fixed window of training set. It does not contain any overlapping folds at all! On the other hand, tscv has a growing window. The growing window split overlap at the beginning so the dataset in the earlier series\n",
    "are given more significance. This makes the difference in the final result.\n",
    "\n",
    "When cv inputs are integer/None, and the estimator is a classifier, StratifiedKFold is used, which ensures the rearranging of data in each fold is a good representative of the whole. This will not retain the order of the time series data. It actually ruins the trend of the timeseries data, but sometimes would train a model with better predictions.\n",
    "\n",
    "In theory, a normal K-fold cross-validation procedure is sufficient for machine learning models, with the assumption that the residuals of the model are uncorrelated. Theoretical proof was published in (Bergmeira, C. 2017 et. al). The author also stated that in most cases, cross-validation can effectively control overfitting. Even if the lag structure is not perfect, a normal K-fold cross-validation without any modifications can be used as a empirical solution. Therefore, we actually observe a better result when using cv=7 (split method without modifying for time-series). \n"
   ]
  },
  {
   "cell_type": "markdown",
   "metadata": {},
   "source": [
    "## Question 4:\n",
    "Regarding,\n",
    "\n",
    "cvo = RandomizedSearchCV(pipeline, parameters_rs,cv=tscv, scoring=None, n_iter= 50, random_state=7) \n",
    "\n",
    ",specifically, cv=tscv_fw, regardless of the result of this notebook what advantage (and what disadvantage) does \n",
    "the TimeSeriesSplit object with fixed window provide over the TimeSeriesSplit object with growing window\n",
    "\n",
    "## Answer to Q4:\n",
    "\n",
    "The advantage of the fixed window is that a new set of training data and validation data is used for\n",
    "every training iteration. For growing window, the second time you train, you will include the dataset from\n",
    "the first training set, and the third time you train, you will have included the first training dataset three\n",
    "times, and the second training set two times. So the issue with growing window is the earlier dataset would\n",
    "have much more weighs contributed to the model since all the training set overlap at the beginning of\n",
    "the series. Whereas in the fixed window split, each data point contributes equally to the model output."
   ]
  },
  {
   "cell_type": "markdown",
   "metadata": {},
   "source": [
    "## Question 5:\n",
    "Regarding classification report and confusion matrix of our SVC classifier compared to the DUMMY,specifically,\n",
    "\n",
    "cls_d = DummyClassifier(strategy='uniform')\n",
    "\n",
    "why is the strategy set to uniform and not some other (see)\n",
    "https://scikit-learn.org/stable/modules/generated/sklearn.dummy.DummyClassifier.html\n"
   ]
  },
  {
   "cell_type": "markdown",
   "metadata": {
    "raw_mimetype": "text/latex"
   },
   "source": [
    "## Answer to Q5:"
   ]
  },
  {
   "cell_type": "code",
   "execution_count": 54,
   "metadata": {},
   "outputs": [
    {
     "data": {
      "text/plain": [
       "Text(0.5, 1.0, 'Histogram Showing the Size of Each Signal Class')"
      ]
     },
     "execution_count": 54,
     "metadata": {},
     "output_type": "execute_result"
    },
    {
     "data": {
      "image/png": "[encoded data removed]",
      "text/plain": [
       "<Figure size 432x288 with 1 Axes>"
      ]
     },
     "metadata": {
      "needs_background": "light"
     },
     "output_type": "display_data"
    }
   ],
   "source": [
    "# Plot a histogram to show the size of each class\n",
    "import seaborn as sns\n",
    "sns.distplot(y.iloc[:], kde=False)\n",
    "plt.title(\"Histogram Showing the Size of Each Signal Class\")"
   ]
  },
  {
   "cell_type": "code",
   "execution_count": 55,
   "metadata": {},
   "outputs": [
    {
     "name": "stdout",
     "output_type": "stream",
     "text": [
      "DummyStrategy=\"uniform\"\n",
      "               precision    recall  f1-score   support\n",
      "\n",
      "          -1       0.19      0.26      0.22        31\n",
      "           0       0.57      0.48      0.52        60\n",
      "           1       0.31      0.29      0.30        38\n",
      "\n",
      "    accuracy                           0.37       129\n",
      "   macro avg       0.36      0.34      0.35       129\n",
      "weighted avg       0.40      0.37      0.38       129\n",
      "\n",
      "DummyStrategy=\"constant\"\n",
      "               precision    recall  f1-score   support\n",
      "\n",
      "          -1       0.00      0.00      0.00        31\n",
      "           0       0.00      0.00      0.00        60\n",
      "           1       0.29      1.00      0.46        38\n",
      "\n",
      "    accuracy                           0.29       129\n",
      "   macro avg       0.10      0.33      0.15       129\n",
      "weighted avg       0.09      0.29      0.13       129\n",
      "\n",
      "DummyStrategy=\"most_frequent\"\n",
      "               precision    recall  f1-score   support\n",
      "\n",
      "          -1       0.24      1.00      0.39        31\n",
      "           0       0.00      0.00      0.00        60\n",
      "           1       0.00      0.00      0.00        38\n",
      "\n",
      "    accuracy                           0.24       129\n",
      "   macro avg       0.08      0.33      0.13       129\n",
      "weighted avg       0.06      0.24      0.09       129\n",
      "\n",
      "DummyStrategy=\"stratified\"\n",
      "               precision    recall  f1-score   support\n",
      "\n",
      "          -1       0.19      0.32      0.24        31\n",
      "           0       0.49      0.30      0.37        60\n",
      "           1       0.33      0.34      0.33        38\n",
      "\n",
      "    accuracy                           0.32       129\n",
      "   macro avg       0.33      0.32      0.32       129\n",
      "weighted avg       0.37      0.32      0.33       129\n",
      "\n",
      "Our Classifier\n",
      "               precision    recall  f1-score   support\n",
      "\n",
      "          -1       0.32      0.61      0.42        31\n",
      "           0       0.57      0.28      0.38        60\n",
      "           1       0.45      0.47      0.46        38\n",
      "\n",
      "    accuracy                           0.42       129\n",
      "   macro avg       0.45      0.46      0.42       129\n",
      "weighted avg       0.47      0.42      0.41       129\n",
      "\n"
     ]
    },
    {
     "name": "stderr",
     "output_type": "stream",
     "text": [
      "C:\\Anaconda2\\envs\\aps1052\\lib\\site-packages\\sklearn\\metrics\\_classification.py:1272: UndefinedMetricWarning: Precision and F-score are ill-defined and being set to 0.0 in labels with no predicted samples. Use `zero_division` parameter to control this behavior.\n",
      "  _warn_prf(average, modifier, msg_start, len(result))\n",
      "C:\\Anaconda2\\envs\\aps1052\\lib\\site-packages\\sklearn\\metrics\\_classification.py:1272: UndefinedMetricWarning: Precision and F-score are ill-defined and being set to 0.0 in labels with no predicted samples. Use `zero_division` parameter to control this behavior.\n",
      "  _warn_prf(average, modifier, msg_start, len(result))\n"
     ]
    },
    {
     "data": {
      "text/plain": [
       "Text(0.5, 1.0, 'Our Classifier')"
      ]
     },
     "execution_count": 55,
     "metadata": {},
     "output_type": "execute_result"
    },
    {
     "data": {
      "image/png": "[encoded data removed]",
      "text/plain": [
       "<Figure size 432x288 with 2 Axes>"
      ]
     },
     "metadata": {
      "needs_background": "light"
     },
     "output_type": "display_data"
    },
    {
     "data": {
      "image/png": "[encoded data removed]",
      "text/plain": [
       "<Figure size 432x288 with 2 Axes>"
      ]
     },
     "metadata": {
      "needs_background": "light"
     },
     "output_type": "display_data"
    },
    {
     "data": {
      "image/png": "[encoded data removed]",
      "text/plain": [
       "<Figure size 432x288 with 2 Axes>"
      ]
     },
     "metadata": {
      "needs_background": "light"
     },
     "output_type": "display_data"
    },
    {
     "data": {
      "image/png": "[encoded data removed]",
      "text/plain": [
       "<Figure size 432x288 with 2 Axes>"
      ]
     },
     "metadata": {
      "needs_background": "light"
     },
     "output_type": "display_data"
    },
    {
     "data": {
      "image/png": "[encoded data removed]",
      "text/plain": [
       "<Figure size 432x288 with 2 Axes>"
      ]
     },
     "metadata": {
      "needs_background": "light"
     },
     "output_type": "display_data"
    }
   ],
   "source": [
    "# Compare different Dummy Classifier Strategies\n",
    "\n",
    "cvo = RandomizedSearchCV(pipeline, parameters_rs,cv=tscv, scoring=None, n_iter= 50, random_state=7)\n",
    "cvo.fit(X.iloc[:split],y.iloc[:split])\n",
    "best_C = cvo.best_params_['svc__C']\n",
    "best_kernel =cvo.best_params_['svc__kernel']\n",
    "best_gamma=cvo.best_params_['svc__gamma']\n",
    "cls = SVC(C =best_C,kernel=best_kernel, gamma=best_gamma)\n",
    "ss1= StandardScaler()\n",
    "\n",
    "cls.fit(ss1.fit_transform(X.iloc[:split]),y.iloc[:split])\n",
    "y_predict =cls.predict(ss1.transform(X.iloc[split:]))\n",
    "Df['Pred_Signal']=0\n",
    "Df.iloc[:split,Df.columns.get_loc('Pred_Signal')]\\\n",
    "       =pd.Series(cls.predict(ss1.transform(X.iloc[:split])).tolist())\n",
    "Df.iloc[split:,Df.columns.get_loc('Pred_Signal')]=y_predict\n",
    "\n",
    "cls_d = DummyClassifier(strategy='uniform') #can substitute for some other strategy\n",
    "cls_d.fit(ss1.fit_transform(X.iloc[:split]),y.iloc[:split])\n",
    "y_predict_d =cls_d.predict(ss1.transform(X.iloc[split:]))\n",
    "print(\"DummyStrategy=\\\"uniform\\\"\\n\",classification_report(Df['Signal'].iloc[split:], y_predict_d))\n",
    "plot_confusion_matrix(cls_d,ss1.transform(X.iloc[split:]),Df['Signal'].iloc[split:], normalize=None)\n",
    "plt.title(\"DummyStrategy=\\\"uniform\\\"\")\n",
    "\n",
    "cls_d = DummyClassifier(strategy='constant',constant=1) #can substitute for some other strategy\n",
    "cls_d.fit(ss1.fit_transform(X.iloc[:split]),y.iloc[:split])\n",
    "y_predict_d =cls_d.predict(ss1.transform(X.iloc[split:]))\n",
    "print(\"DummyStrategy=\\\"constant\\\"\\n\",classification_report(Df['Signal'].iloc[split:], y_predict_d))\n",
    "plot_confusion_matrix(cls_d,ss1.transform(X.iloc[split:]),Df['Signal'].iloc[split:], normalize=None)\n",
    "plt.title(\"DummyStrategy=\\\"constant\\\"\")\n",
    "\n",
    "cls_d = DummyClassifier(strategy='most_frequent') #can substitute for some other strategy\n",
    "cls_d.fit(ss1.fit_transform(X.iloc[:split]),y.iloc[:split])\n",
    "y_predict_d =cls_d.predict(ss1.transform(X.iloc[split:]))\n",
    "print(\"DummyStrategy=\\\"most_frequent\\\"\\n\",classification_report(Df['Signal'].iloc[split:], y_predict_d))\n",
    "plot_confusion_matrix(cls_d,ss1.transform(X.iloc[split:]),Df['Signal'].iloc[split:], normalize=None)\n",
    "plt.title(\"DummyStrategy=\\\"most_frequent\\\"\")\n",
    "\n",
    "cls_d = DummyClassifier(strategy='stratified') #can substitute for some other strategy\n",
    "cls_d.fit(ss1.fit_transform(X.iloc[:split]),y.iloc[:split])\n",
    "y_predict_d =cls_d.predict(ss1.transform(X.iloc[split:]))\n",
    "print(\"DummyStrategy=\\\"stratified\\\"\\n\",classification_report(Df['Signal'].iloc[split:], y_predict_d))\n",
    "plot_confusion_matrix(cls_d,ss1.transform(X.iloc[split:]),Df['Signal'].iloc[split:], normalize=None)\n",
    "plt.title(\"DummyStrategy=\\\"stratified\\\"\")\n",
    "\n",
    "\n",
    "print(\"Our Classifier\\n\",classification_report(Df['Signal'].iloc[split:], y_predict))\n",
    "plot_confusion_matrix(cls,ss1.transform(X.iloc[split:]),Df['Signal'].iloc[split:], normalize=None)\n",
    "plt.title(\"Our Classifier\")"
   ]
  },
  {
   "cell_type": "markdown",
   "metadata": {},
   "source": [
    "## Answer to Q5:(Continued)\n",
    "A dummy classifier is used as a baseline of the model we trained. A comparison between the dummy classifier (which we used as a baseline) and the SVC model we trained allows us to concretely state the benefits of using this machine learning approach.\n",
    "\n",
    "From the histogram that shows the size of the three signal classes (-1,0,1), we see the sizes are similar. Therefore, a dummy classifier that use a most_frequent strategy (or use a \"constant\" strategy with constant being equal to the most frequent class) won't raise the accuracy of the prediction and is not favourable in this multi-class classification problem here. \n",
    "\n",
    "\n",
    "A \"stratified\" dummy classifier strategy is to generate predictions by respecting the training set's class distribution, \n",
    "Since the sizes of three classes are very close to each other, using a \"stratified\" strategy and a \"uniform\" strategy are quite similar in this case. Since the class distribution of the training set and that of the test set are not necessarily similar, using a uniform strategy is more favourable here. \n",
    "\n",
    "Without computing a confusion matrix, we can expect that using a \"uniform\" strategy for the dummy classifier will allow us to get a fairly good baseline that can be compared against the SVC model we trained to show an improved performance we achieved. As a matter of fact, this can be seen from the classification report and confusion matrix made for each dummy classifier strategy."
   ]
  },
  {
   "cell_type": "markdown",
   "metadata": {},
   "source": [
    "## Question 6:\n",
    "Regarding classification report and confusion matrix of our SVC classifier compared to the DUMMY, specifically,\n",
    "\n",
    "the classification report table and confusion matrix plot\n",
    "\n",
    "what are we comparing between our classifier and the DUMMY?"
   ]
  },
  {
   "cell_type": "markdown",
   "metadata": {},
   "source": [
    "## Answer to Q6:\n",
    "\n",
    "As discussed in Answer to Question 5, the dataset are fairly balanced as can be seen from the histogram (the size of each class is similar to each other). Therefore, the F1 score can be effectively ignored and the mis-classification rate is used for comparison between the classifiers here. Mis-classification rate is simply 1 - accuracy, the value of which can be obtained directly from the classification report printed in the output. In other words, we can simply compare the value of accuracy in the outputs. The accuracy of our classifier is 0.46 (random_state=70) which is apparently larger than that of the dummy classifier which ranges from 0.26 to 0.37 (using a \"uniform\" strategy is to randonly generating predictions based on a uniform distribution, therefore the value of accuracy varies across multiple runs).\n",
    "\n",
    "\n"
   ]
  },
  {
   "cell_type": "markdown",
   "metadata": {},
   "source": [
    "## Question 7:\n",
    "Regarding classification report and confusion matrix of our SVC classifier compared to the DUMMY, specifically,\n",
    "the classification report table and confusion matrix plot.\n",
    "Can you get the classifier to become better than the DUMMY (even slightly better)\n",
    "by running the notebook many times. For this you need to change the random_state=7 in:\n",
    "\n",
    "cvo = RandomizedSearchCV(pipeline, parameters_rs,cv=tscv, scoring=None, n_iter= 50, random_state=7) \n",
    "\n",
    "to some other number. (If you set it to random_state=None, random numbers will be used)\n",
    "How much better?"
   ]
  },
  {
   "cell_type": "code",
   "execution_count": 56,
   "metadata": {},
   "outputs": [
    {
     "data": {
      "text/plain": [
       "<matplotlib.image.AxesImage at 0x235c23f7888>"
      ]
     },
     "execution_count": 56,
     "metadata": {},
     "output_type": "execute_result"
    },
    {
     "data": {
      "image/png": "[encoded data removed]",
      "text/plain": [
       "<Figure size 432x288 with 1 Axes>"
      ]
     },
     "metadata": {
      "needs_background": "light"
     },
     "output_type": "display_data"
    }
   ],
   "source": [
    "'''\n",
    "SVC_Accuracy=[]\n",
    "DummyC_Accuracy=[]\n",
    "for rs1 in range(20):\n",
    "    cvo = RandomizedSearchCV(pipeline, parameters_rs,cv=tscv, scoring=None, n_iter= 50, random_state=rs1)\n",
    "    cvo.fit(X.iloc[:split],y.iloc[:split])\n",
    "    best_C = cvo.best_params_['svc__C']\n",
    "    best_kernel =cvo.best_params_['svc__kernel']\n",
    "    best_gamma=cvo.best_params_['svc__gamma']\n",
    "    cls = SVC(C =best_C,kernel=best_kernel, gamma=best_gamma)\n",
    "    ss1= StandardScaler()\n",
    "\n",
    "    cls.fit(ss1.fit_transform(X.iloc[:split]),y.iloc[:split])\n",
    "    y_predict =cls.predict(ss1.transform(X.iloc[split:]))\n",
    "    Df['Pred_Signal']=0\n",
    "    Df.iloc[:split,Df.columns.get_loc('Pred_Signal')]\\\n",
    "           =pd.Series(cls.predict(ss1.transform(X.iloc[:split])).tolist())\n",
    "    Df.iloc[split:,Df.columns.get_loc('Pred_Signal')]=y_predict\n",
    "\n",
    "    cls_d = DummyClassifier(strategy='uniform',random_state=rs1) #can substitute for some other strategy\n",
    "    cls_d.fit(ss1.fit_transform(X.iloc[:split]),y.iloc[:split])\n",
    "    y_predict_d =cls_d.predict(ss1.transform(X.iloc[split:]))\n",
    "    print(\"random_state=\", rs1,\":\")\n",
    "    print(\"DummyStrategy=\\\"uniform\\\", accuracy=\",round(classification_report(Df['Signal'].iloc[split:], y_predict_d,output_dict=True)[\"accuracy\"],3))\n",
    "    print(\"Our Classifier, accuracy=\",round(classification_report(Df['Signal'].iloc[split:], y_predict,output_dict=True)[\"accuracy\"],3))\n",
    "    DummyC_Accuracy.append(round(classification_report(Df['Signal'].iloc[split:], y_predict_d,output_dict=True)[\"accuracy\"],3))\n",
    "    SVC_Accuracy.append(round(classification_report(Df['Signal'].iloc[split:], y_predict,output_dict=True)[\"accuracy\"],3))\n",
    "    \n",
    "fig_z, ax_z = plt.subplots()\n",
    "ax_z.set_title('Boxplot of Accuracies DummyClassifier VS. SVC')\n",
    "ax_z.boxplot([DummyC_Accuracy,SVC_Accuracy])\n",
    "'''\n",
    "# Runtime is a little bit too long, the result figure has been saved and showed directly here\n",
    "import matplotlib.image as mpimg \n",
    "import matplotlib.pyplot as plt   \n",
    "img = mpimg.imread('Boxplot_Accuracies2.png')  \n",
    "plt.imshow(img) "
   ]
  },
  {
   "cell_type": "markdown",
   "metadata": {},
   "source": [
    "## Answer to Q7:(Continued)\n",
    "The value of random_state are being set to 20 different values (0-19). Using the 20 values of random_state, we obtain a list of accuracies of the svc classifier model. Although in some cases, our classifier model is not more than slightly better than the dummy classifier (i.e., random_state=16), in most cases, we see a significant difference between the accuracy and the SVC classifier apparently has an improved performance of predicting the signals.\n",
    "\n"
   ]
  },
  {
   "cell_type": "markdown",
   "metadata": {},
   "source": [
    "## Question 8:\n",
    "Regarding Trading results, specifically,\n",
    "\n",
    "plt.plot(Df['Cu_Ret1'],color='r',label='Strategy Returns')\n",
    "\n",
    "plt.plot(Df['Cu_Ret'],color='g',label='Market Returns')\n",
    "\n",
    "Wherever the classifier better than the DUMMY (even slightly better) are the trading results better too?\n",
    "Look at: \n",
    "\n",
    "The plot of the cummulative returns.\n",
    "\n",
    "The p_value (which should be < .05 to be siginificant) of the White Reality Check.\n",
    "\n",
    "(low p_value means the profits are not by chance, not due to any the trend in the data)\n"
   ]
  },
  {
   "cell_type": "code",
   "execution_count": 57,
   "metadata": {},
   "outputs": [
    {
     "name": "stdout",
     "output_type": "stream",
     "text": [
      "Dummy Classifier Sharpe Ratio: -3.2397351205328437\n",
      "SVC Strategy Sharpe Ratio: 4.379471139735849\n"
     ]
    },
    {
     "data": {
      "image/png": "[encoded data removed]",
      "text/plain": [
       "<Figure size 432x288 with 1 Axes>"
      ]
     },
     "metadata": {
      "needs_background": "light"
     },
     "output_type": "display_data"
    },
    {
     "name": "stdout",
     "output_type": "stream",
     "text": [
      "White's Reality Check for SVC classifier (our model) are shown as follows,\n",
      "    average return 0.004740\n",
      "     [-0.00540428  0.00523342]\n",
      "    Reject Ho = The population distribution of rule returns has an expected value of zero or less (because p_value is small enough)\n",
      "    p_value: 0.03700000000000003\n",
      "\n",
      "White's Reality Check for Dummy Classifier are shown as follows,\n",
      "    average return -0.002282\n",
      "     [-0.0048677   0.00497964]\n",
      "    Do not reject Ho = The population distribution of rule returns has an expected value of zero or less (because p_value is not small enough)\n",
      "    p_value: 0.8154\n"
     ]
    },
    {
     "data": {
      "text/plain": [
       "0.8154"
      ]
     },
     "execution_count": 57,
     "metadata": {},
     "output_type": "execute_result"
    }
   ],
   "source": [
    "Df['Pred_Signal']=0\n",
    "Df.iloc[:split,Df.columns.get_loc('Pred_Signal')]\\\n",
    "       =pd.Series(cls.predict(ss1.transform(X.iloc[:split])).tolist())\n",
    "Df.iloc[split:,Df.columns.get_loc('Pred_Signal')]=y_predict\n",
    "\n",
    "cls_d = DummyClassifier(strategy='uniform',random_state=1) #can substitute for some other strategy\n",
    "cls_d.fit(ss1.fit_transform(X.iloc[:split]),y.iloc[:split])\n",
    "y_predict_d =cls_d.predict(ss1.transform(X.iloc[split:]))\n",
    "Df['Pred_Signal_d']=0\n",
    "Df.iloc[:split,Df.columns.get_loc('Pred_Signal_d')]\\\n",
    "       =pd.Series(cls_d.predict(ss1.transform(X.iloc[:split])).tolist())\n",
    "Df.iloc[split:,Df.columns.get_loc('Pred_Signal_d')]=y_predict_d\n",
    "\n",
    "Df['Ret1_d']=Df['Ret']*Df['Pred_Signal_d'] \n",
    "Df['Cu_Ret1_d']=0.\n",
    "Df['Cu_Ret1_d']=np.cumsum(Df['Ret1_d'].iloc[split:])\n",
    "Df['Cu_Ret']=0.\n",
    "Df['Cu_Ret']=np.cumsum(Df['Ret'].iloc[split:])\n",
    "Std =np.std(Df['Cu_Ret1_d'])\n",
    "Sharpe = (Df['Cu_Ret1_d'].iloc[-1]-Df['Cu_Ret'].iloc[-1])/Std #will not annualize this because the data is intraday data\n",
    "print('Dummy Classifier Sharpe Ratio:',Sharpe)\n",
    "Sharpe = (Df['Cu_Ret1'].iloc[-1]-Df['Cu_Ret'].iloc[-1])/Std #will not annualize this because the data is intraday data\n",
    "print('SVC Strategy Sharpe Ratio:',Sharpe)\n",
    "plt.plot(Df['Cu_Ret1_d'],color='b',label='Dummy Classifier Strategy Returns')\n",
    "plt.plot(Df['Cu_Ret1'],color='r',label='Strategy Returns')\n",
    "plt.plot(Df['Cu_Ret'],color='g',label='Market Returns')\n",
    "#plt.figtext(0.14,0.7,s='Sharpe ratio: %.2f'%Sharpe)\n",
    "plt.legend(loc='best')\n",
    "plt.show()\n",
    "#Detrend prices before calculating detrended returns\n",
    "Df['DetOpen'] = detrendPrice.detrendPrice(Df['Open']).values \n",
    "#these are the detrended returns to be fed to White's Reality Check\n",
    "print(\"White's Reality Check for SVC classifier (our model) are shown as follows,\")\n",
    "Df['DetRet']=np.log(Df['DetOpen'].shift(-1)/Df['DetOpen'])\n",
    "Df['DetStrategy']=Df['DetRet']*Df['Pred_Signal'] \n",
    "WhiteRealityCheckFor1.bootstrap(Df['DetStrategy'].iloc[split:])\n",
    "print()\n",
    "print(\"White's Reality Check for Dummy Classifier are shown as follows,\")\n",
    "Df['DetStrategy_d']=Df['DetRet']*Df['Pred_Signal_d'] \n",
    "WhiteRealityCheckFor1.bootstrap(Df['DetStrategy_d'].iloc[split:])"
   ]
  },
  {
   "cell_type": "markdown",
   "metadata": {},
   "source": [
    "## Answer to Q8:(Continued)\n",
    "As shown by the graph of the returns, the trading result of the SVC classifier is better than the baseline (that of the dummy classifier). The p-value being smaller than 0.05 shows the statistical significance of rejecting the null hypothesis which claims that the population distribution of rule returns has an expected value of zero or less. This implies the strategy based on SVC classifier actually brings profit not by chance or due to any trend in the data. On the other hand, the dummy classifier brings a significant loss. The large p-value also implies the same conclusion (the population distribution of rule returns has an expected value of zero or less).\n"
   ]
  },
  {
   "cell_type": "markdown",
   "metadata": {},
   "source": [
    "## Question 9:\n",
    "\n",
    "How the length of the lookback window n= 10 (originally n=5) affect the result?\n",
    "\n",
    "Change the value to n=2, to n=5, to n=10, to n=50\n",
    "\n",
    "What seems to be the best window setting (you may have to run the notebook a number of times in each window setting by changing to random_state=None)?\n",
    "\n"
   ]
  },
  {
   "cell_type": "code",
   "execution_count": 58,
   "metadata": {},
   "outputs": [
    {
     "data": {
      "text/plain": [
       "'\\nfor n in [50,10]:\\n    print(\"For window n = \" , n , \":\")\\n    for i in range(10):\\n        print(\"Run #\" , i+1 )\\n        Sharpe, WhiteRealityCheck_p_value = ClassificationSVM_SPY.SVC_model(n)\\n        print(\"Sharpe, \", Sharpe, \"; WhiteRealityCheck p-value, \", WhiteRealityCheck_p_value)\\n        print()\\n        '"
      ]
     },
     "execution_count": 58,
     "metadata": {},
     "output_type": "execute_result"
    }
   ],
   "source": [
    "import ClassificationSVM_SPY\n",
    "'''\n",
    "for n in [50,10]:\n",
    "    print(\"For window n = \" , n , \":\")\n",
    "    for i in range(10):\n",
    "        print(\"Run #\" , i+1 )\n",
    "        Sharpe, WhiteRealityCheck_p_value = ClassificationSVM_SPY.SVC_model(n,cv_model=\"tscv\")\n",
    "        print(\"Sharpe, \", Sharpe, \"; WhiteRealityCheck p-value, \", WhiteRealityCheck_p_value)\n",
    "        print()\n",
    "        '''"
   ]
  },
  {
   "cell_type": "code",
   "execution_count": 59,
   "metadata": {},
   "outputs": [
    {
     "data": {
      "text/plain": [
       "'\\nn=5\\nprint(\"For window n = \" , n , \":\")\\ni=0\\nprint(\"Run #\" , i+1 )\\nSharpe, WhiteRealityCheck_p_value = ClassificationSVM_SPY.SVC_model(n)\\nprint(\"Sharpe, \", Sharpe, \"; WhiteRealityCheck p-value, \", WhiteRealityCheck_p_value)\\nprint()\\n'"
      ]
     },
     "execution_count": 59,
     "metadata": {},
     "output_type": "execute_result"
    }
   ],
   "source": [
    "'''\n",
    "n=5\n",
    "print(\"For window n = \" , n , \":\")\n",
    "i=0\n",
    "print(\"Run #\" , i+1 )\n",
    "Sharpe, WhiteRealityCheck_p_value = ClassificationSVM_SPY.SVC_model(n,cv_model=\"tscv\")\n",
    "print(\"Sharpe, \", Sharpe, \"; WhiteRealityCheck p-value, \", WhiteRealityCheck_p_value)\n",
    "print()\n",
    "'''"
   ]
  },
  {
   "cell_type": "code",
   "execution_count": null,
   "metadata": {},
   "outputs": [],
   "source": [
    "'''\n",
    "n=2\n",
    "print(\"For window n = \" , n , \":\")\n",
    "i=0\n",
    "print(\"Run #\" , i+1 )\n",
    "Sharpe, WhiteRealityCheck_p_value = ClassificationSVM_SPY.SVC_model(n,cv_model=\"tscv\")\n",
    "print(\"Sharpe, \", Sharpe, \"; WhiteRealityCheck p-value, \", WhiteRealityCheck_p_value)\n",
    "print()\n",
    "'''"
   ]
  },
  {
   "cell_type": "code",
   "execution_count": 64,
   "metadata": {},
   "outputs": [
    {
     "data": {
      "image/png": "[encoded data removed]",
      "text/plain": [
       "<Figure size 432x288 with 1 Axes>"
      ]
     },
     "metadata": {
      "needs_background": "light"
     },
     "output_type": "display_data"
    },
    {
     "data": {
      "image/png": "[encoded data removed]",
      "text/plain": [
       "<Figure size 432x288 with 1 Axes>"
      ]
     },
     "metadata": {
      "needs_background": "light"
     },
     "output_type": "display_data"
    }
   ],
   "source": [
    "from statsmodels.graphics.tsaplots import plot_acf,plot_pacf\n",
    "plot_acf(Df['Close'], lags=50)\n",
    "plot_pacf(Df['Close'], lags=20)\n",
    "plt.show()"
   ]
  },
  {
   "cell_type": "code",
   "execution_count": 2,
   "metadata": {},
   "outputs": [
    {
     "name": "stdout",
     "output_type": "stream",
     "text": [
      "For window n =  10 :\n",
      "Run # 1\n",
      "    SVC Classifier, accuracy= 0.434\n",
      "Sharpe,  2.6305972862669496 ; WhiteRealityCheck p-value,  0.006000000000000005\n",
      "\n"
     ]
    }
   ],
   "source": [
    "import ClassificationSVM_SPY\n",
    "for n in [10]:\n",
    "    print(\"For window n = \" , n , \":\")\n",
    "    for i in range(1):\n",
    "        print(\"Run #\" , i+1 )\n",
    "        Sharpe, WhiteRealityCheck_p_value = ClassificationSVM_SPY.SVC_model(n,cv_model=\"tscv\")\n",
    "        print(\"Sharpe, \", Sharpe, \"; WhiteRealityCheck p-value, \", WhiteRealityCheck_p_value)\n",
    "        print()"
   ]
  },
  {
   "cell_type": "markdown",
   "metadata": {},
   "source": [
    "## Answer to Q9:(Continued)\n",
    "The length of the lookback window largely affect the result. The window setting equals to 10 seems to be the best one, based on the Sharpe ratio as well as WhiteRealityCheck p-value output by the above code. This result agrees with the PACF plot above, which shows lag 10 has a strong partial autocorrelation."
   ]
  },
  {
   "cell_type": "markdown",
   "metadata": {},
   "source": [
    "## Question 10:\n",
    "Assuming we want a trading system to get the big moves right (at least) not giving\n",
    "too much importance to the small moves, what is the problem with our SVC classifier?\n",
    "What can one do to solve this?\n",
    "\n",
    "## Answer to Q10:\n",
    "The metric currently used pays great attention on predicting the small changes rather than predicting the big changes. In order to get the big moves right, we want to model the big ups and downs more accurately but not the small ones. Therefore, we need to think of a way for the model to do that.\n",
    "Another problem of the current metric is that it only reports the accuracy of the direction, rather than the magnitude, which is also very important when assessing the model. We can also try metric scoring that can reflect the magnitude, for example, instead of modeling a signal classifier, we can use a regression tree to take into account the magnitude directly. Another potential solution could be using an ensemble of models (i.e., Bayesian Ensemble Methods). Bayesian model averaging (BMA) is generally considered the standard model for creating ensembles of learners using Bayesian methods. Bayesian Model Combination (BMC) which is based on BMA, helps to select the best combination of models used for ensembles of learners. The potential learners we can use in an ensemble that models the magnitude include random forest, regression tree, support vector regressor, kernel ridge regressor, K-NN regressor, gaussian process regressor, gradient boosting regressor, etc. In this way, big ups and downs can be modelled by those learners. Ensembles can then be created using BMC methods to allow the model to improve its ability of predicting “big changes”.\n",
    "\n"
   ]
  }
 ],
 "metadata": {
  "anaconda-cloud": {},
  "celltoolbar": "Raw Cell Format",
  "kernelspec": {
   "display_name": "Python 3",
   "language": "python",
   "name": "python3"
  },
  "language_info": {
   "codemirror_mode": {
    "name": "ipython",
    "version": 3
   },
   "file_extension": ".py",
   "mimetype": "text/x-python",
   "name": "python",
   "nbconvert_exporter": "python",
   "pygments_lexer": "ipython3",
   "version": "3.7.6"
  }
 },
 "nbformat": 4,
 "nbformat_minor": 2
}
