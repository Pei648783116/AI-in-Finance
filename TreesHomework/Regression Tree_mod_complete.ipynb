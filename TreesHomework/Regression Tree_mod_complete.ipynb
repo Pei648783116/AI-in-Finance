{
 "cells": [
  {
   "cell_type": "markdown",
   "metadata": {},
   "source": [
    "# Notebook Instructions\n",
    "THIS NOTEBOOK IS INCOMPLETE. GOTO \"STATE THE RULE BELOW\" AND COMPLETE THE MISSING INFORMATION\n",
    "<i>You can run the notebook document sequentially (one cell at a time) by pressing <b> shift + enter</b>. While a cell is running, a [*] will display on the left. When it has been run, a number will display indicating the order in which it was run in the notebook [8].</i>\n",
    "\n",
    "<i>Enter edit mode by pressing <b>`Enter`</b> or using the mouse to click on a cell's editor area. Edit mode is indicated by a green cell border and a prompt showing in the editor area.</i>"
   ]
  },
  {
   "cell_type": "markdown",
   "metadata": {},
   "source": [
    "# Regression Tree\n",
    "\n",
    "A regression tree automatically selects important predictors and suggests trading rules. In this notebook, we will learn to create a regression tree using Apple Inc. stock. The predictor variables are one-day returns, five-day returns, five-day standard deviation and so on. The target variable is one-day future return. The tree we create will help us create trading rules for when the future return is expected to be positive or negative.\n",
    "<BR>\n",
    "\n",
    "<B>Create a regression tree</B>\n",
    "1. Import the data\n",
    "1. Define predictor variables and a target variable\n",
    "2. Split the data into train and test dataset\n",
    "3. Create a regression tree model using the train data\n",
    "4. Visualize the model\n",
    "\n",
    "<B>Analyzing the performance</B><BR><BR>\n",
    "Part I: Single leaf\n",
    "1. Trading rule based on one leaf node with the highest expected value of a target variable\n",
    "5. Compute performance in the train and test dataset\n",
    "\n",
    "Part II: Full tree\n",
    "1. Trading rule based on all the leaf node\n",
    "5. Compute the performance in the train and test dataset"
   ]
  },
  {
   "cell_type": "markdown",
   "metadata": {},
   "source": [
    "### Import the data"
   ]
  },
  {
   "cell_type": "code",
   "execution_count": 14,
   "metadata": {},
   "outputs": [
    {
     "data": {
      "text/html": [
       "<div>\n",
       "<style scoped>\n",
       "    .dataframe tbody tr th:only-of-type {\n",
       "        vertical-align: middle;\n",
       "    }\n",
       "\n",
       "    .dataframe tbody tr th {\n",
       "        vertical-align: top;\n",
       "    }\n",
       "\n",
       "    .dataframe thead th {\n",
       "        text-align: right;\n",
       "    }\n",
       "</style>\n",
       "<table border=\"1\" class=\"dataframe\">\n",
       "  <thead>\n",
       "    <tr style=\"text-align: right;\">\n",
       "      <th></th>\n",
       "      <th>Open</th>\n",
       "      <th>High</th>\n",
       "      <th>Low</th>\n",
       "      <th>Close</th>\n",
       "      <th>Volume</th>\n",
       "      <th>Dividend</th>\n",
       "      <th>Split</th>\n",
       "      <th>Adj_Open</th>\n",
       "      <th>Adj_High</th>\n",
       "      <th>Adj_Low</th>\n",
       "      <th>Adj_Close</th>\n",
       "      <th>Adj_Volume</th>\n",
       "    </tr>\n",
       "    <tr>\n",
       "      <th>Date</th>\n",
       "      <th></th>\n",
       "      <th></th>\n",
       "      <th></th>\n",
       "      <th></th>\n",
       "      <th></th>\n",
       "      <th></th>\n",
       "      <th></th>\n",
       "      <th></th>\n",
       "      <th></th>\n",
       "      <th></th>\n",
       "      <th></th>\n",
       "      <th></th>\n",
       "    </tr>\n",
       "  </thead>\n",
       "  <tbody>\n",
       "    <tr>\n",
       "      <th>2018-04-11</th>\n",
       "      <td>172.23</td>\n",
       "      <td>173.9232</td>\n",
       "      <td>171.70</td>\n",
       "      <td>172.44</td>\n",
       "      <td>22431640.0</td>\n",
       "      <td>0.0</td>\n",
       "      <td>1.0</td>\n",
       "      <td>171.565897</td>\n",
       "      <td>173.252569</td>\n",
       "      <td>171.037941</td>\n",
       "      <td>171.775088</td>\n",
       "      <td>22431640.0</td>\n",
       "    </tr>\n",
       "    <tr>\n",
       "      <th>2018-04-12</th>\n",
       "      <td>173.41</td>\n",
       "      <td>175.0000</td>\n",
       "      <td>173.04</td>\n",
       "      <td>174.14</td>\n",
       "      <td>22889285.0</td>\n",
       "      <td>0.0</td>\n",
       "      <td>1.0</td>\n",
       "      <td>172.741347</td>\n",
       "      <td>174.325217</td>\n",
       "      <td>172.372774</td>\n",
       "      <td>173.468533</td>\n",
       "      <td>22889285.0</td>\n",
       "    </tr>\n",
       "    <tr>\n",
       "      <th>2018-04-13</th>\n",
       "      <td>174.78</td>\n",
       "      <td>175.8400</td>\n",
       "      <td>173.85</td>\n",
       "      <td>174.73</td>\n",
       "      <td>25124255.0</td>\n",
       "      <td>0.0</td>\n",
       "      <td>1.0</td>\n",
       "      <td>174.106065</td>\n",
       "      <td>175.161978</td>\n",
       "      <td>173.179651</td>\n",
       "      <td>174.056258</td>\n",
       "      <td>25124255.0</td>\n",
       "    </tr>\n",
       "  </tbody>\n",
       "</table>\n",
       "</div>"
      ],
      "text/plain": [
       "              Open      High     Low   Close      Volume  Dividend  Split  \\\n",
       "Date                                                                        \n",
       "2018-04-11  172.23  173.9232  171.70  172.44  22431640.0       0.0    1.0   \n",
       "2018-04-12  173.41  175.0000  173.04  174.14  22889285.0       0.0    1.0   \n",
       "2018-04-13  174.78  175.8400  173.85  174.73  25124255.0       0.0    1.0   \n",
       "\n",
       "              Adj_Open    Adj_High     Adj_Low   Adj_Close  Adj_Volume  \n",
       "Date                                                                    \n",
       "2018-04-11  171.565897  173.252569  171.037941  171.775088  22431640.0  \n",
       "2018-04-12  172.741347  174.325217  172.372774  173.468533  22889285.0  \n",
       "2018-04-13  174.106065  175.161978  173.179651  174.056258  25124255.0  "
      ]
     },
     "execution_count": 14,
     "metadata": {},
     "output_type": "execute_result"
    }
   ],
   "source": [
    "import pandas as pd\n",
    "data = pd.read_csv('AAPL.csv', index_col=0)\n",
    "data.index = pd.to_datetime(data.index)\n",
    "data.tail(3)"
   ]
  },
  {
   "cell_type": "markdown",
   "metadata": {},
   "source": [
    "### Define predictor variables and a target variable\n",
    "\n",
    "We define a list of predictors from which the model will pick the best predictors. ret1 is the one-day returns, std5 is the five-day standard deviation and so on. <BR>\n",
    "\n",
    "<font color='blue'>pct_change()</font> computes the percentage change from the immediately previous row by default and <font color='blue'>rolling_sum(window=n)</font> computes the sum of previous n rows. "
   ]
  },
  {
   "cell_type": "code",
   "execution_count": 15,
   "metadata": {},
   "outputs": [],
   "source": [
    "# Returns\n",
    "import numpy as np\n",
    "data['ret1'] = np.log(data.Adj_Close/data.Adj_Close.shift(1))\n",
    "\n",
    "#data['ret5'] = pd.rolling_sum(data.ret1, 5)\n",
    "#data['ret10'] = pd.rolling_sum(data.ret1, 10)\n",
    "#data['ret20'] = pd.rolling_sum(data.ret1, 20)\n",
    "#data['ret40'] = pd.rolling_sum(data.ret1, 40)\n",
    "\n",
    "data['ret5'] = data.ret1.rolling(5).sum()\n",
    "data['ret10'] = data.ret1.rolling(10).sum()\n",
    "data['ret20'] = data.ret1.rolling(20).sum()\n",
    "data['ret40'] = data.ret1.rolling(40).sum()\n",
    "\n",
    "# Standard Deviation\n",
    "#data['std5'] = pd.rolling_std(data.ret1, 5)\n",
    "#data['std10'] = pd.rolling_std(data.ret1, 10)\n",
    "#data['std20'] = pd.rolling_std(data.ret1, 20)\n",
    "#data['std40'] = pd.rolling_std(data.ret1, 40)\n",
    "\n",
    "data['std5'] = data.ret1.rolling(5).std()\n",
    "data['std10'] = data.ret1.rolling(10).std()\n",
    "data['std20'] = data.ret1.rolling(20).std()\n",
    "data['std40'] = data.ret1.rolling(40).std()"
   ]
  },
  {
   "cell_type": "markdown",
   "metadata": {},
   "source": [
    "We define the target variable which is the future one-day returns of the Apple Inc. stock. <BR>\n",
    "<font color='blue'>shift(periods=n)</font> shifts the values by n period(s). If the value of n is negative then, it shifts the values backward and vice-versa."
   ]
  },
  {
   "cell_type": "code",
   "execution_count": 16,
   "metadata": {},
   "outputs": [],
   "source": [
    "data['retFut1'] = data.ret1.shift(-1)"
   ]
  },
  {
   "cell_type": "markdown",
   "metadata": {},
   "source": [
    "We drop the NaN values and store the predictor variables in X and target variable in y."
   ]
  },
  {
   "cell_type": "code",
   "execution_count": 17,
   "metadata": {},
   "outputs": [],
   "source": [
    "data = data.dropna()\n",
    "predictor_list = ['ret1','ret5', 'ret10', 'ret20', 'ret40', 'std5', 'std10', 'std20', 'std40','Volume']\n",
    "X = data[predictor_list]\n",
    "y = data.retFut1"
   ]
  },
  {
   "cell_type": "markdown",
   "metadata": {},
   "source": [
    "### Split the data into train and test dataset\n",
    "This step is required to verify if the regression tree model we created is any good. We will split the dataset into two parts, first 80% of the dataset will use to create the model and the remaining 20% will be used as a test dataset."
   ]
  },
  {
   "cell_type": "code",
   "execution_count": 18,
   "metadata": {},
   "outputs": [],
   "source": [
    "train_length = int(len(data)*0.80)\n",
    "\n",
    "X_train = X[:train_length] \n",
    "X_test =  X[train_length:]\n",
    "y_train = y[:train_length]\n",
    "y_test = y[train_length:]                   "
   ]
  },
  {
   "cell_type": "markdown",
   "metadata": {},
   "source": [
    "We have training data in the X_train and y_train for creating the regression tree model and a X_test and y_test to verify the model on unseen data."
   ]
  },
  {
   "cell_type": "markdown",
   "metadata": {},
   "source": [
    "### Create regression tree model\n",
    "\n",
    "We have used DecisionTreeRegressor from sklearn.tree to create the regression tree model. We choose to set min_samples_leaf to 400, but you are free to experiment with other values and see what is optimal on the train dataset. Generally, a leaf size should not be too small to avoid overfitting in the train dataset."
   ]
  },
  {
   "cell_type": "code",
   "execution_count": 19,
   "metadata": {},
   "outputs": [],
   "source": [
    "# Regression tree model\n",
    "from sklearn.tree import DecisionTreeRegressor\n",
    "dtr = DecisionTreeRegressor(min_samples_leaf = 400)"
   ]
  },
  {
   "cell_type": "markdown",
   "metadata": {},
   "source": [
    "We create the regression tree model using fit() method on the train dataset."
   ]
  },
  {
   "cell_type": "code",
   "execution_count": 20,
   "metadata": {},
   "outputs": [
    {
     "data": {
      "text/plain": [
       "DecisionTreeRegressor(ccp_alpha=0.0, criterion='mse', max_depth=None,\n",
       "                      max_features=None, max_leaf_nodes=None,\n",
       "                      min_impurity_decrease=0.0, min_impurity_split=None,\n",
       "                      min_samples_leaf=400, min_samples_split=2,\n",
       "                      min_weight_fraction_leaf=0.0, presort='deprecated',\n",
       "                      random_state=None, splitter='best')"
      ]
     },
     "execution_count": 20,
     "metadata": {},
     "output_type": "execute_result"
    }
   ],
   "source": [
    "dtr.fit(X_train, y_train)"
   ]
  },
  {
   "cell_type": "code",
   "execution_count": 21,
   "metadata": {},
   "outputs": [],
   "source": [
    "# Uncomment below line to see details of DecisionTreeRegressor\n",
    "#help(DecisionTreeRegressor)"
   ]
  },
  {
   "cell_type": "markdown",
   "metadata": {},
   "source": [
    "### Visualize the model\n",
    "\n",
    "We now visualize the regression tree created in the below step using the graphviz and sklearn's tree package."
   ]
  },
  {
   "cell_type": "code",
   "execution_count": 22,
   "metadata": {},
   "outputs": [
    {
     "data": {
      "image/svg+xml": [
       "<?xml version=\"1.0\" encoding=\"UTF-8\" standalone=\"no\"?>\r\n",
       "<!DOCTYPE svg PUBLIC \"-//W3C//DTD SVG 1.1//EN\"\r\n",
       " \"http://www.w3.org/Graphics/SVG/1.1/DTD/svg11.dtd\">\r\n",
       "<!-- Generated by graphviz version 2.38.0 (20140413.2041)\r\n",
       " -->\r\n",
       "<!-- Title: Tree Pages: 1 -->\r\n",
       "<svg width=\"284pt\" height=\"373pt\"\r\n",
       " viewBox=\"0.00 0.00 284.00 373.00\" xmlns=\"http://www.w3.org/2000/svg\" xmlns:xlink=\"http://www.w3.org/1999/xlink\">\r\n",
       "<g id=\"graph0\" class=\"graph\" transform=\"scale(1 1) rotate(0) translate(4 369)\">\r\n",
       "<title>Tree</title>\r\n",
       "<polygon fill=\"white\" stroke=\"none\" points=\"-4,4 -4,-369 280,-369 280,4 -4,4\"/>\r\n",
       "<!-- 0 -->\r\n",
       "<g id=\"node1\" class=\"node\"><title>0</title>\r\n",
       "<polygon fill=\"#f2be99\" stroke=\"black\" points=\"160,-365 56,-365 56,-297 160,-297 160,-365\"/>\r\n",
       "<text text-anchor=\"middle\" x=\"108\" y=\"-349.8\" font-family=\"Times New Roman,serif\" font-size=\"14.00\">ret40 &lt;= &#45;0.056</text>\r\n",
       "<text text-anchor=\"middle\" x=\"108\" y=\"-334.8\" font-family=\"Times New Roman,serif\" font-size=\"14.00\">mse = 0.0</text>\r\n",
       "<text text-anchor=\"middle\" x=\"108\" y=\"-319.8\" font-family=\"Times New Roman,serif\" font-size=\"14.00\">samples = 2038</text>\r\n",
       "<text text-anchor=\"middle\" x=\"108\" y=\"-304.8\" font-family=\"Times New Roman,serif\" font-size=\"14.00\">value = 0.001</text>\r\n",
       "</g>\r\n",
       "<!-- 1 -->\r\n",
       "<g id=\"node2\" class=\"node\"><title>1</title>\r\n",
       "<polygon fill=\"#ffffff\" stroke=\"black\" points=\"98,-253.5 0,-253.5 0,-200.5 98,-200.5 98,-253.5\"/>\r\n",
       "<text text-anchor=\"middle\" x=\"49\" y=\"-238.3\" font-family=\"Times New Roman,serif\" font-size=\"14.00\">mse = 0.001</text>\r\n",
       "<text text-anchor=\"middle\" x=\"49\" y=\"-223.3\" font-family=\"Times New Roman,serif\" font-size=\"14.00\">samples = 421</text>\r\n",
       "<text text-anchor=\"middle\" x=\"49\" y=\"-208.3\" font-family=\"Times New Roman,serif\" font-size=\"14.00\">value = &#45;0.001</text>\r\n",
       "</g>\r\n",
       "<!-- 0&#45;&gt;1 -->\r\n",
       "<g id=\"edge1\" class=\"edge\"><title>0&#45;&gt;1</title>\r\n",
       "<path fill=\"none\" stroke=\"black\" d=\"M88.8444,-296.884C82.4193,-285.776 75.2445,-273.372 68.773,-262.184\"/>\r\n",
       "<polygon fill=\"black\" stroke=\"black\" points=\"71.7983,-260.424 63.7615,-253.52 65.7389,-263.929 71.7983,-260.424\"/>\r\n",
       "<text text-anchor=\"middle\" x=\"57.3106\" y=\"-273.973\" font-family=\"Times New Roman,serif\" font-size=\"14.00\">True</text>\r\n",
       "</g>\r\n",
       "<!-- 2 -->\r\n",
       "<g id=\"node3\" class=\"node\"><title>2</title>\r\n",
       "<polygon fill=\"#eead7e\" stroke=\"black\" points=\"220,-261 116,-261 116,-193 220,-193 220,-261\"/>\r\n",
       "<text text-anchor=\"middle\" x=\"168\" y=\"-245.8\" font-family=\"Times New Roman,serif\" font-size=\"14.00\">std5 &lt;= 0.015</text>\r\n",
       "<text text-anchor=\"middle\" x=\"168\" y=\"-230.8\" font-family=\"Times New Roman,serif\" font-size=\"14.00\">mse = 0.0</text>\r\n",
       "<text text-anchor=\"middle\" x=\"168\" y=\"-215.8\" font-family=\"Times New Roman,serif\" font-size=\"14.00\">samples = 1617</text>\r\n",
       "<text text-anchor=\"middle\" x=\"168\" y=\"-200.8\" font-family=\"Times New Roman,serif\" font-size=\"14.00\">value = 0.002</text>\r\n",
       "</g>\r\n",
       "<!-- 0&#45;&gt;2 -->\r\n",
       "<g id=\"edge2\" class=\"edge\"><title>0&#45;&gt;2</title>\r\n",
       "<path fill=\"none\" stroke=\"black\" d=\"M127.48,-296.884C132.51,-288.332 137.992,-279.013 143.252,-270.072\"/>\r\n",
       "<polygon fill=\"black\" stroke=\"black\" points=\"146.359,-271.693 148.412,-261.299 140.325,-268.144 146.359,-271.693\"/>\r\n",
       "<text text-anchor=\"middle\" x=\"154.686\" y=\"-281.799\" font-family=\"Times New Roman,serif\" font-size=\"14.00\">False</text>\r\n",
       "</g>\r\n",
       "<!-- 3 -->\r\n",
       "<g id=\"node4\" class=\"node\"><title>3</title>\r\n",
       "<polygon fill=\"#f4c7a8\" stroke=\"black\" points=\"160,-157 56,-157 56,-89 160,-89 160,-157\"/>\r\n",
       "<text text-anchor=\"middle\" x=\"108\" y=\"-141.8\" font-family=\"Times New Roman,serif\" font-size=\"14.00\">std10 &lt;= 0.012</text>\r\n",
       "<text text-anchor=\"middle\" x=\"108\" y=\"-126.8\" font-family=\"Times New Roman,serif\" font-size=\"14.00\">mse = 0.0</text>\r\n",
       "<text text-anchor=\"middle\" x=\"108\" y=\"-111.8\" font-family=\"Times New Roman,serif\" font-size=\"14.00\">samples = 1014</text>\r\n",
       "<text text-anchor=\"middle\" x=\"108\" y=\"-96.8\" font-family=\"Times New Roman,serif\" font-size=\"14.00\">value = 0.001</text>\r\n",
       "</g>\r\n",
       "<!-- 2&#45;&gt;3 -->\r\n",
       "<g id=\"edge3\" class=\"edge\"><title>2&#45;&gt;3</title>\r\n",
       "<path fill=\"none\" stroke=\"black\" d=\"M148.52,-192.884C143.49,-184.332 138.008,-175.013 132.748,-166.072\"/>\r\n",
       "<polygon fill=\"black\" stroke=\"black\" points=\"135.675,-164.144 127.588,-157.299 129.641,-167.693 135.675,-164.144\"/>\r\n",
       "</g>\r\n",
       "<!-- 6 -->\r\n",
       "<g id=\"node7\" class=\"node\"><title>6</title>\r\n",
       "<polygon fill=\"#e58139\" stroke=\"black\" points=\"276,-149.5 178,-149.5 178,-96.5 276,-96.5 276,-149.5\"/>\r\n",
       "<text text-anchor=\"middle\" x=\"227\" y=\"-134.3\" font-family=\"Times New Roman,serif\" font-size=\"14.00\">mse = 0.0</text>\r\n",
       "<text text-anchor=\"middle\" x=\"227\" y=\"-119.3\" font-family=\"Times New Roman,serif\" font-size=\"14.00\">samples = 603</text>\r\n",
       "<text text-anchor=\"middle\" x=\"227\" y=\"-104.3\" font-family=\"Times New Roman,serif\" font-size=\"14.00\">value = 0.003</text>\r\n",
       "</g>\r\n",
       "<!-- 2&#45;&gt;6 -->\r\n",
       "<g id=\"edge6\" class=\"edge\"><title>2&#45;&gt;6</title>\r\n",
       "<path fill=\"none\" stroke=\"black\" d=\"M187.156,-192.884C193.581,-181.776 200.755,-169.372 207.227,-158.184\"/>\r\n",
       "<polygon fill=\"black\" stroke=\"black\" points=\"210.261,-159.929 212.238,-149.52 204.202,-156.424 210.261,-159.929\"/>\r\n",
       "</g>\r\n",
       "<!-- 4 -->\r\n",
       "<g id=\"node5\" class=\"node\"><title>4</title>\r\n",
       "<polygon fill=\"#eb9e66\" stroke=\"black\" points=\"99,-53 1,-53 1,-0 99,-0 99,-53\"/>\r\n",
       "<text text-anchor=\"middle\" x=\"50\" y=\"-37.8\" font-family=\"Times New Roman,serif\" font-size=\"14.00\">mse = 0.0</text>\r\n",
       "<text text-anchor=\"middle\" x=\"50\" y=\"-22.8\" font-family=\"Times New Roman,serif\" font-size=\"14.00\">samples = 513</text>\r\n",
       "<text text-anchor=\"middle\" x=\"50\" y=\"-7.8\" font-family=\"Times New Roman,serif\" font-size=\"14.00\">value = 0.002</text>\r\n",
       "</g>\r\n",
       "<!-- 3&#45;&gt;4 -->\r\n",
       "<g id=\"edge4\" class=\"edge\"><title>3&#45;&gt;4</title>\r\n",
       "<path fill=\"none\" stroke=\"black\" d=\"M87.7144,-88.9485C82.3244,-80.1664 76.4915,-70.6629 71.0611,-61.815\"/>\r\n",
       "<polygon fill=\"black\" stroke=\"black\" points=\"74.01,-59.9287 65.7961,-53.2367 68.0441,-63.5903 74.01,-59.9287\"/>\r\n",
       "</g>\r\n",
       "<!-- 5 -->\r\n",
       "<g id=\"node6\" class=\"node\"><title>5</title>\r\n",
       "<polygon fill=\"#fcf2eb\" stroke=\"black\" points=\"215,-53 117,-53 117,-0 215,-0 215,-53\"/>\r\n",
       "<text text-anchor=\"middle\" x=\"166\" y=\"-37.8\" font-family=\"Times New Roman,serif\" font-size=\"14.00\">mse = 0.0</text>\r\n",
       "<text text-anchor=\"middle\" x=\"166\" y=\"-22.8\" font-family=\"Times New Roman,serif\" font-size=\"14.00\">samples = 501</text>\r\n",
       "<text text-anchor=\"middle\" x=\"166\" y=\"-7.8\" font-family=\"Times New Roman,serif\" font-size=\"14.00\">value = &#45;0.001</text>\r\n",
       "</g>\r\n",
       "<!-- 3&#45;&gt;5 -->\r\n",
       "<g id=\"edge5\" class=\"edge\"><title>3&#45;&gt;5</title>\r\n",
       "<path fill=\"none\" stroke=\"black\" d=\"M128.286,-88.9485C133.676,-80.1664 139.508,-70.6629 144.939,-61.815\"/>\r\n",
       "<polygon fill=\"black\" stroke=\"black\" points=\"147.956,-63.5903 150.204,-53.2367 141.99,-59.9287 147.956,-63.5903\"/>\r\n",
       "</g>\r\n",
       "</g>\r\n",
       "</svg>\r\n"
      ],
      "text/plain": [
       "<graphviz.files.Source at 0x2a620c5fac8>"
      ]
     },
     "execution_count": 22,
     "metadata": {},
     "output_type": "execute_result"
    }
   ],
   "source": [
    "import os\n",
    "#os.environ[\"PATH\"] += os.pathsep + 'C:/Users/academy/Documents/graphviz-2.38/release/bin/'\n",
    "#os.environ[\"PATH\"] += os.pathsep + 'C:/Program Files (x86)/Graphviz2.38/release/bin/'\n",
    "os.environ[\"PATH\"] += os.pathsep + 'C:/Program Files (x86)/Graphviz2.38/bin/'\n",
    "    \n",
    "from sklearn import tree\n",
    "import graphviz\n",
    "dot_data = tree.export_graphviz(dtr, \n",
    "                                out_file=None, \n",
    "                                filled=True,   \n",
    "                                feature_names=predictor_list)  \n",
    "graphviz.Source(dot_data)  "
   ]
  },
  {
   "cell_type": "markdown",
   "metadata": {},
   "source": [
    "To practice, create a regression tree model with min_samples_leaf as 100, 500 and 1000 and plot the tree to visualize the difference."
   ]
  },
  {
   "cell_type": "markdown",
   "metadata": {},
   "source": [
    "### Trading rule based on the leaf node with the highest target variable value\n",
    "\n",
    "#The above tree can be used to define a long rule. The rule can be paraphrased as \"when cond1 and #cond2 then buy, else do not buy.\" So predicted_signal is '1' when buy and '0' otherwise. STATE THE #RULE BELOW in python."
   ]
  },
  {
   "cell_type": "code",
   "execution_count": 23,
   "metadata": {},
   "outputs": [
    {
     "data": {
      "image/png": "[encoded data removed]",
      "text/plain": [
       "<Figure size 432x288 with 1 Axes>"
      ]
     },
     "metadata": {
      "needs_background": "light"
     },
     "output_type": "display_data"
    }
   ],
   "source": [
    "import numpy as np\n",
    "#data['predicted_signal'] = np.where(((data.col > A) & (data.col > B)), 1, 0)\n",
    "data['predicted_signal'] = np.where(((data.ret40 > -0.056) & (data.std5 > 0.015)), 1, 0)\n",
    "# Visualizing the signal predicted for last 10 days\n",
    "import matplotlib.pyplot as plt\n",
    "import seaborn\n",
    "data.predicted_signal[-10:].plot()\n",
    "plt.show()"
   ]
  },
  {
   "cell_type": "markdown",
   "metadata": {},
   "source": [
    "The above graph shows the signal predicted for last 10 days. The strategy returns are generated by multiplying the future returns by the predicted signal and stored in the strategy_returns."
   ]
  },
  {
   "cell_type": "code",
   "execution_count": 24,
   "metadata": {},
   "outputs": [],
   "source": [
    "data['strategy_returns_single_leaf'] = data.retFut1 * data.predicted_signal"
   ]
  },
  {
   "cell_type": "markdown",
   "metadata": {},
   "source": [
    "### Trading rule based on the full tree\n",
    "\n",
    "#We define a trading rule based on the expected response of every single leaf. If the expected value #is positive then we buy the Apple Inc. stock and otherwise, we sell the stock. STATE THE RULE BELOW #IN PYTHON"
   ]
  },
  {
   "cell_type": "code",
   "execution_count": 25,
   "metadata": {},
   "outputs": [],
   "source": [
    "#data['predicted_signal'] = np.where(CONDITION, 1,-1)\n",
    "data['predicted_signal'] = np.where(dtr.predict(X) > 0, 1,-1)\n",
    "data['strategy_returns_full_tree'] = data.retFut1 * data.predicted_signal"
   ]
  },
  {
   "cell_type": "markdown",
   "metadata": {},
   "source": [
    "### Performance computation for single leaf"
   ]
  },
  {
   "cell_type": "markdown",
   "metadata": {},
   "source": [
    "Sharpe Ratio\n",
    "\n",
    "The Sharpe ratio is calculated as follows:\n",
    "\n",
    "<img src=\"https://d2a032ejo53cab.cloudfront.net/Glossary/R2TAJa6K/Sharpe-1.jpg\"></img>\n",
    "\n",
    "Where\n",
    "- N is the number of trading days in a year\n",
    "- Rf is the risk-free rate\n",
    "- Std dev is the standard deviation\n",
    "\n",
    "Sharpe ratio represents how good the strategy performance is for the risk (standard deviation) taken to achieve it. The higher the Sharpe ratio the better is the strategy. Generally, a Sharpe ratio of greater than 1.5 is preferred."
   ]
  },
  {
   "cell_type": "code",
   "execution_count": 26,
   "metadata": {},
   "outputs": [],
   "source": [
    "# The below function returns the Sharpe ratio for the excess returns (Strategy returns - Risk free rate) passed to it.\n",
    "def annualized_sharpe_ratio(returns, N=252):\n",
    "    return np.sqrt(N) * returns.mean() / returns.std()"
   ]
  },
  {
   "cell_type": "markdown",
   "metadata": {},
   "source": [
    "We calculate the Sharpe ratio for the strategy in train and test dataset. The risk-free rate is assumed to be 5% p.a."
   ]
  },
  {
   "cell_type": "code",
   "execution_count": 27,
   "metadata": {},
   "outputs": [],
   "source": [
    "# Sharpe ratio\n",
    "# Train dataset\n",
    "data['excess_daily_strategy_return'] = data.strategy_returns_single_leaf - 0.05/252\n",
    "sharpe_train_single_leaf = annualized_sharpe_ratio(data.excess_daily_strategy_return.iloc[:train_length])\n",
    "# Test dataset\n",
    "sharpe_test_single_leaf = annualized_sharpe_ratio(data.excess_daily_strategy_return.iloc[train_length:])"
   ]
  },
  {
   "cell_type": "markdown",
   "metadata": {},
   "source": [
    "### Strategy CAGR\n",
    "CAGR represents the compounded annual returns of the strategy. The strategy CAGR is computed as follows:\n",
    "\n",
    "<i>(Cumulative returns + 1)^(252/number of days) - 1</i>\n",
    "\n",
    "where cumulative returns are the total strategy returns and number of days represent the total trading days."
   ]
  },
  {
   "cell_type": "code",
   "execution_count": 28,
   "metadata": {},
   "outputs": [],
   "source": [
    "def CAGR(returns):\n",
    "    cumulative_returns = returns.cumsum().iloc[-1]   \n",
    "    period_in_days = len(returns)\n",
    "    return 100*((cumulative_returns+1)**(252.0/period_in_days)-1)"
   ]
  },
  {
   "cell_type": "code",
   "execution_count": 29,
   "metadata": {},
   "outputs": [],
   "source": [
    "# Single Leaf\n",
    "# Train dataset\n",
    "ret_train_single_leaf = CAGR(data.strategy_returns_single_leaf.iloc[:train_length])\n",
    "# Test dataset\n",
    "ret_test_single_leaf = CAGR(data.strategy_returns_single_leaf.iloc[train_length:])"
   ]
  },
  {
   "cell_type": "markdown",
   "metadata": {},
   "source": [
    "### Performance computation for full tree"
   ]
  },
  {
   "cell_type": "code",
   "execution_count": 30,
   "metadata": {},
   "outputs": [],
   "source": [
    "# Full Tree\n",
    "\n",
    "# Sharpe ratio\n",
    "# Train dataset\n",
    "data['excess_daily_strategy_return'] = data.strategy_returns_full_tree - 0.05/252\n",
    "sharpe_train_full_tree = annualized_sharpe_ratio(data.excess_daily_strategy_return.iloc[:train_length])\n",
    "# Test dataset\n",
    "sharpe_test_full_tree = annualized_sharpe_ratio(data.excess_daily_strategy_return.iloc[train_length:])\n",
    "\n",
    "# CAGR\n",
    "# Train dataset\n",
    "ret_train_full_tree = CAGR(data.strategy_returns_full_tree.iloc[:train_length])\n",
    "# Test dataset\n",
    "ret_test_full_tree = CAGR(data.strategy_returns_full_tree.iloc[train_length:])\n"
   ]
  },
  {
   "cell_type": "markdown",
   "metadata": {},
   "source": [
    "### Performance Comparision of single leaf and full tree"
   ]
  },
  {
   "cell_type": "markdown",
   "metadata": {},
   "source": [
    "Cumulative returns in train dataset."
   ]
  },
  {
   "cell_type": "code",
   "execution_count": 31,
   "metadata": {},
   "outputs": [
    {
     "data": {
      "image/png": "[encoded data removed]",
      "text/plain": [
       "<Figure size 432x288 with 1 Axes>"
      ]
     },
     "metadata": {
      "needs_background": "light"
     },
     "output_type": "display_data"
    }
   ],
   "source": [
    "# Plot the cumulative returns for single leaf in train dataset\n",
    "data.strategy_returns_single_leaf[:train_length].cumsum().plot()\n",
    "\n",
    "# Plot the cumulative returns for full tree in train dataset\n",
    "data.strategy_returns_full_tree[:train_length].cumsum().plot()\n",
    "\n",
    "# Show the legend\n",
    "plt.legend()\n",
    "\n",
    "# Show the graph\n",
    "plt.show()"
   ]
  },
  {
   "cell_type": "markdown",
   "metadata": {},
   "source": [
    "Cumulative returns in the test dataset."
   ]
  },
  {
   "cell_type": "code",
   "execution_count": 32,
   "metadata": {},
   "outputs": [
    {
     "data": {
      "image/png": "[encoded data removed]",
      "text/plain": [
       "<Figure size 432x288 with 1 Axes>"
      ]
     },
     "metadata": {
      "needs_background": "light"
     },
     "output_type": "display_data"
    }
   ],
   "source": [
    "# Plot the cumulative returns for single leaf in train dataset\n",
    "data.strategy_returns_single_leaf[train_length:].cumsum().plot()\n",
    "\n",
    "# Plot the cumulative returns for full tree in train dataset\n",
    "data.strategy_returns_full_tree[train_length:].cumsum().plot()\n",
    "\n",
    "# Show the legend\n",
    "plt.legend()\n",
    "\n",
    "# Show the graph\n",
    "plt.show()"
   ]
  },
  {
   "cell_type": "code",
   "execution_count": 33,
   "metadata": {},
   "outputs": [
    {
     "name": "stdout",
     "output_type": "stream",
     "text": [
      "|              |   Train (Single Leaf) |   Train (Full Tree) |   Test (Single Leaf) |   Test (Full Tree) |\n",
      "|--------------+-----------------------+---------------------+----------------------+--------------------|\n",
      "| CAGR         |             12.7927   |            22.3985  |             14.4923  |          13.0139   |\n",
      "| Sharpe Ratio |              0.880498 |             1.41711 |              1.16094 |           0.440169 |\n"
     ]
    }
   ],
   "source": [
    "from tabulate import tabulate\n",
    "\n",
    "# Tabulate the performance in train and test dataset for single leaf and full tree\n",
    "print (tabulate(\n",
    "        [             \n",
    "            ['CAGR', ret_train_single_leaf, ret_train_full_tree, ret_test_single_leaf, ret_test_full_tree],\n",
    "            ['Sharpe Ratio', sharpe_train_single_leaf, sharpe_train_full_tree, sharpe_test_single_leaf, sharpe_test_full_tree],\n",
    "        ], \n",
    "        headers=['Train (Single Leaf)', 'Train (Full Tree)', 'Test (Single Leaf)',  'Test (Full Tree)'], \n",
    "    tablefmt='orgtbl'))"
   ]
  },
  {
   "cell_type": "markdown",
   "metadata": {},
   "source": [
    " In the next class, we will explore some ensemble techniques for reducing overfitting so that we can, in fact, use all leaves for prediction.\n",
    "<BR>"
   ]
  },
  {
   "cell_type": "code",
   "execution_count": null,
   "metadata": {},
   "outputs": [],
   "source": []
  }
 ],
 "metadata": {
  "kernelspec": {
   "display_name": "Python 3",
   "language": "python",
   "name": "python3"
  },
  "language_info": {
   "codemirror_mode": {
    "name": "ipython",
    "version": 3
   },
   "file_extension": ".py",
   "mimetype": "text/x-python",
   "name": "python",
   "nbconvert_exporter": "python",
   "pygments_lexer": "ipython3",
   "version": "3.7.6"
  }
 },
 "nbformat": 4,
 "nbformat_minor": 1
}
